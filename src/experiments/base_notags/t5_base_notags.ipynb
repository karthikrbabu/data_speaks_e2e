{
 "cells": [
  {
   "cell_type": "markdown",
   "id": "working-australian",
   "metadata": {},
   "source": [
    "# T5 Model Base Implementation\n",
    "\n",
    "The purpose of this notebook is to demonstrate training using tensorflow 2 and keras. This notebook includes tf Data pipelines for build any other NLP task in a text to text fashion. Anyone can adapt the data pipeline to thier own datasets. Uses the efficient [Datasets](https://github.com/huggingface/datasets) from 🤗 as source for training.\n",
    "\n",
    "#### Features:\n",
    "- Train TF T5 on E2E Cleaned Data to Text Problem\n",
    "- Train T5 using keras trainer fucntion\n",
    "- tf.Data pipeline\n",
    "- [Datasets from 🤗](https://github.com/huggingface/datasets) as source\n",
    "- Log metrics using tensorboard\n",
    "- Profile your experiment with the brand new tensorflow profiler !!\n",
    "\n",
    "#### Steps:\n",
    "* Import Libraries\n",
    "* Load Train/Dev/Test Data\n",
    "* Config Definitions\n",
    "* Pre-process Data (Tensors)\n",
    "* Quick Tensor EDA\n",
    "* Tensorboard Loading\n",
    "* Optimizer Init\n",
    "* Train Model\n",
    "* Evaluate Model"
   ]
  },
  {
   "cell_type": "code",
   "execution_count": null,
   "id": "stuck-nickname",
   "metadata": {
    "lines_to_next_cell": 2
   },
   "outputs": [],
   "source": [
    "#Utilities\n",
    "import pandas as pd\n",
    "import numpy as np\n",
    "from scipy import stats\n",
    "import math\n",
    "import json\n",
    "import re\n",
    "import os\n",
    "import datetime\n",
    "import time\n",
    "import collections\n",
    "from collections import defaultdict\n",
    "import warnings\n",
    "warnings.filterwarnings('ignore')\n",
    "\n",
    "#Plotting\n",
    "import matplotlib.pyplot as plt\n",
    "import plotly.express as px\n",
    "\n",
    "#NLTK \n",
    "from nltk.corpus import stopwords\n",
    "import nltk\n",
    "\n",
    "#HuggingFace\n",
    "import transformers\n",
    "from transformers import (TFAutoModelWithLMHead, AutoTokenizer,\n",
    "                            TFTrainer, TFTrainingArguments, T5Tokenizer, TFT5ForConditionalGeneration,\n",
    "                            TFT5Model, T5Config, pipeline)\n",
    "import datasets\n",
    "from datasets import load_dataset, list_datasets\n",
    "\n",
    "# Tensorflow\n",
    "import tensorflow as tf\n",
    "\n",
    "#AWS\n",
    "import boto3\n",
    "s3 = boto3.resource('s3')"
   ]
  },
  {
   "cell_type": "code",
   "execution_count": null,
   "id": "dental-replication",
   "metadata": {},
   "outputs": [],
   "source": [
    "exp_dir = os.getcwd()\n",
    "print(\"Experiment Dir: \", exp_dir)"
   ]
  },
  {
   "cell_type": "code",
   "execution_count": null,
   "id": "asian-supplement",
   "metadata": {},
   "outputs": [],
   "source": [
    "base_dir = os.path.abspath(os.path.join(os.getcwd(),os.pardir, os.pardir, os.pardir))\n",
    "os.chdir(base_dir)\n",
    "print(\"Base Dir: \", base_dir)"
   ]
  },
  {
   "cell_type": "code",
   "execution_count": null,
   "id": "endangered-observation",
   "metadata": {},
   "outputs": [],
   "source": [
    "#Custom Utils Lib\n",
    "from src.utils.utils import (get_model_output, write_model_output, save_metrics,\n",
    "                         encode, to_tf_dataset, create_dataset, compute_metrics, save_model_to_s3)\n",
    "from src.classes.t5Wrapper import T5Wrapper\n",
    "from src.classes.customScheduler import CustomSchedule"
   ]
  },
  {
   "cell_type": "code",
   "execution_count": null,
   "id": "surface-universe",
   "metadata": {},
   "outputs": [],
   "source": [
    "tf_version = tf.__version__\n",
    "print(\"Tensorflow: \", tf_version)\n",
    "print(\"Transformers: \", transformers.__version__)\n",
    "print(\"Datasets: \", datasets.__version__)\n",
    "\n",
    "tf_version_split = tf_version.split('.')\n",
    "assert int(tf_version_split[0])==2 and int(tf_version_split[-2])>=3, f\"Tensorflow version should be '2.3+,x', given {tf_version}\"\n"
   ]
  },
  {
   "cell_type": "markdown",
   "id": "subtle-bouquet",
   "metadata": {},
   "source": [
    "### Setup Directories"
   ]
  },
  {
   "cell_type": "code",
   "execution_count": null,
   "id": "linear-indianapolis",
   "metadata": {},
   "outputs": [],
   "source": [
    "!ls {base_dir}"
   ]
  },
  {
   "cell_type": "code",
   "execution_count": null,
   "id": "aggregate-alignment",
   "metadata": {},
   "outputs": [],
   "source": [
    "#AWS box path we should keep\n",
    "tb_data_dir = f\"{exp_dir}/tf_data\"\n",
    "log_dir = f\"{tb_data_dir}/experiments/t5/logs\"\n",
    "save_path = f\"{tb_data_dir}/experiments/t5/models\"\n",
    "cache_path_train = f\"{tb_data_dir}/cache/t5.train\"\n",
    "cache_path_test = f\"{tb_data_dir}/cache/t5.test\"\n",
    "\n",
    "print(\"Experiment Base directory: \",exp_dir)\n",
    "model_path = f'{exp_dir}/model'\n",
    "print('model_path: ', model_path)"
   ]
  },
  {
   "cell_type": "markdown",
   "id": "alpine-control",
   "metadata": {},
   "source": [
    "### Init Tokenizer"
   ]
  },
  {
   "cell_type": "code",
   "execution_count": null,
   "id": "gothic-vampire",
   "metadata": {},
   "outputs": [],
   "source": [
    "tokenizer = AutoTokenizer.from_pretrained('t5-small')"
   ]
  },
  {
   "cell_type": "markdown",
   "id": "measured-japan",
   "metadata": {},
   "source": [
    "### Process Train/ Validation"
   ]
  },
  {
   "cell_type": "code",
   "execution_count": null,
   "id": "approximate-uganda",
   "metadata": {},
   "outputs": [],
   "source": [
    "train = load_dataset('e2e_nlg_cleaned', split='train')\n",
    "validation = load_dataset('e2e_nlg_cleaned', split='validation')\n",
    "\n",
    "train.features"
   ]
  },
  {
   "cell_type": "code",
   "execution_count": null,
   "id": "wicked-chile",
   "metadata": {},
   "outputs": [],
   "source": [
    "#!pwd\n",
    "#train=pd.read_csv(\"./data/e2e-dataset/trainset.csv\")\n",
    "#train.head()\n",
    "#validation=pd.read_csv(\"./data/e2e-dataset/devset.csv\")"
   ]
  },
  {
   "cell_type": "code",
   "execution_count": null,
   "id": "minus-house",
   "metadata": {},
   "outputs": [],
   "source": [
    "def remove_tags(record):\n",
    "    mr=record[\"meaning_representation\"]\n",
    "    mr_list = mr.split(\",\")\n",
    "    umr = \"\"\n",
    "    #print(mr_list)\n",
    "    for word in mr_list:\n",
    "        word = re.search('\\[(.+?)\\]', word)\n",
    "        if word:\n",
    "            word = word.group(1).strip()\n",
    "            umr = umr + \", \" + word\n",
    "            #print(\"\\\"\",umr[1:],\"\\\"\",\",\",\"\\\"\",row[1],\"\\\"\")\n",
    "    record[\"meaning_representation\"] = umr[2:]\n",
    "    return record"
   ]
  },
  {
   "cell_type": "code",
   "execution_count": null,
   "id": "intensive-counter",
   "metadata": {
    "lines_to_next_cell": 2
   },
   "outputs": [],
   "source": [
    "train.head()"
   ]
  },
  {
   "cell_type": "code",
   "execution_count": null,
   "id": "concerned-start",
   "metadata": {
    "lines_to_next_cell": 2
   },
   "outputs": [],
   "source": [
    "train=train.map(lambda x: remove_tags(x))"
   ]
  },
  {
   "cell_type": "code",
   "execution_count": null,
   "id": "compressed-account",
   "metadata": {
    "lines_to_next_cell": 2
   },
   "outputs": [],
   "source": [
    "validation=validation.map(lambda x: remove_tags(x))"
   ]
  },
  {
   "cell_type": "code",
   "execution_count": null,
   "id": "domestic-mixture",
   "metadata": {
    "lines_to_next_cell": 2
   },
   "outputs": [],
   "source": [
    "train[\"mr\"]=train[\"mr\"].map(lambda x: remove_tags(x))\n",
    "train.rename(columns={\"mr\":\"meaning_representation\", \"ref\":\"human_reference\"}, inplace=True)"
   ]
  },
  {
   "cell_type": "code",
   "execution_count": null,
   "id": "stock-exhibit",
   "metadata": {},
   "outputs": [],
   "source": [
    "next(iter(train))"
   ]
  },
  {
   "cell_type": "code",
   "execution_count": null,
   "id": "fluid-abraham",
   "metadata": {},
   "outputs": [],
   "source": [
    "validation[\"mr\"]=validation[\"mr\"].map(lambda x: remove_tags(x))\n",
    "validation.rename(columns={\"mr\":\"meaning_representation\", \"ref\":\"human_reference\"}, inplace=True)"
   ]
  },
  {
   "cell_type": "code",
   "execution_count": null,
   "id": "regular-external",
   "metadata": {},
   "outputs": [],
   "source": [
    "validation.head()"
   ]
  },
  {
   "cell_type": "code",
   "execution_count": null,
   "id": "prospective-construction",
   "metadata": {},
   "outputs": [],
   "source": []
  },
  {
   "cell_type": "code",
   "execution_count": null,
   "id": "inside-equality",
   "metadata": {},
   "outputs": [],
   "source": [
    "data = next(iter(train))\n",
    "print(\"Example data from the dataset: \\n\", data)"
   ]
  },
  {
   "cell_type": "markdown",
   "id": "ordered-netherlands",
   "metadata": {},
   "source": [
    "### Init Config"
   ]
  },
  {
   "cell_type": "code",
   "execution_count": null,
   "id": "finite-appreciation",
   "metadata": {},
   "outputs": [],
   "source": [
    "warmup_steps = 1e4\n",
    "epochs = 5\n",
    "batch_size = 30\n",
    "encoder_max_len = 60\n",
    "decoder_max_len = 60\n",
    "buffer_size = 1000\n",
    "ntrain = len(train)\n",
    "nvalid = len(validation)\n",
    "steps = int((ntrain//epochs)// batch_size)\n",
    "valid_steps = int((nvalid//epochs)// batch_size)\n",
    "\n",
    "print(\"Train Data Length: \", ntrain)\n",
    "print(\"Validation Data Length: \", nvalid)\n",
    "print(\"Total Steps: \", steps)\n",
    "print(\"Total Validation Steps: \", valid_steps)\n",
    "print(\"Batch Size: \", batch_size)\n",
    "print(\"Total Epochs: \", epochs)"
   ]
  },
  {
   "cell_type": "markdown",
   "id": "controversial-sacramento",
   "metadata": {},
   "source": [
    "## Data Pipeline"
   ]
  },
  {
   "cell_type": "markdown",
   "id": "modern-multimedia",
   "metadata": {},
   "source": [
    "### Process Train/Validation"
   ]
  },
  {
   "cell_type": "code",
   "execution_count": null,
   "id": "solar-friendship",
   "metadata": {},
   "outputs": [],
   "source": [
    "def encode(example, tokenizer,  encoder_max_len=60, decoder_max_len=60):\n",
    "    \"\"\"\n",
    "    Encode function that uses the T5 Tokenizer on each example\n",
    "    \"\"\"\n",
    "       \n",
    "    mr = example['meaning_representation']\n",
    "    ref = example['human_reference']\n",
    "  \n",
    "    mr_base = f\"data_to_text: {str(mr)}\"\n",
    "    ref_base = f\"{str(ref)}\"\n",
    "\n",
    "    encoder_inputs = tokenizer(mr_base, truncation=True, \n",
    "                               return_tensors='tf', max_length=encoder_max_len,\n",
    "                              pad_to_max_length=True)\n",
    "\n",
    "    decoder_inputs = tokenizer(ref_base, truncation=True, \n",
    "                               return_tensors='tf', max_length=decoder_max_len,\n",
    "                              pad_to_max_length=True)\n",
    "    \n",
    "    input_ids = encoder_inputs['input_ids'][0]\n",
    "    input_attention = encoder_inputs['attention_mask'][0]\n",
    "    target_ids = decoder_inputs['input_ids'][0]\n",
    "    target_attention = decoder_inputs['attention_mask'][0]\n",
    "    \n",
    "    outputs = {'input_ids':input_ids, 'attention_mask': input_attention, \n",
    "               'labels':target_ids, 'decoder_attention_mask':target_attention}\n",
    "    return outputs"
   ]
  },
  {
   "cell_type": "code",
   "execution_count": null,
   "id": "objective-chase",
   "metadata": {},
   "outputs": [],
   "source": [
    "train_ds = train.map(lambda x: encode(x, tokenizer))\n",
    "valid_ds = validation.map(lambda x: encode(x, tokenizer))"
   ]
  },
  {
   "cell_type": "code",
   "execution_count": null,
   "id": "fewer-michael",
   "metadata": {},
   "outputs": [],
   "source": [
    "type(train_ds)"
   ]
  },
  {
   "cell_type": "code",
   "execution_count": null,
   "id": "together-tutorial",
   "metadata": {},
   "outputs": [],
   "source": [
    "ex = next(iter(train_ds))\n",
    "print(\"Example data from the mapped dataset: \\n\", ex)"
   ]
  },
  {
   "cell_type": "markdown",
   "id": "incomplete-warning",
   "metadata": {},
   "source": [
    "### Process Train/Validation =>  Tensors"
   ]
  },
  {
   "cell_type": "code",
   "execution_count": null,
   "id": "dangerous-token",
   "metadata": {},
   "outputs": [],
   "source": [
    "tf_train_ds = to_tf_dataset(train_ds)\n",
    "tf_valid_ds = to_tf_dataset(valid_ds)"
   ]
  },
  {
   "cell_type": "markdown",
   "id": "infrared-bride",
   "metadata": {},
   "source": [
    "### Build Train/ Validation =>  Model Ready Input"
   ]
  },
  {
   "cell_type": "code",
   "execution_count": null,
   "id": "digital-drinking",
   "metadata": {},
   "outputs": [],
   "source": [
    "tf_train_ds= create_dataset(tf_train_ds, batch_size=batch_size, \n",
    "                         shuffling=True, cache_path = None)\n",
    "tf_valid_ds = create_dataset(tf_valid_ds, batch_size=batch_size, \n",
    "                         shuffling=False, cache_path = None)"
   ]
  },
  {
   "cell_type": "markdown",
   "id": "valued-listening",
   "metadata": {},
   "source": [
    "### Custom Learning Rate Scheduler"
   ]
  },
  {
   "cell_type": "code",
   "execution_count": null,
   "id": "taken-literature",
   "metadata": {
    "lines_to_next_cell": 2
   },
   "outputs": [],
   "source": [
    "#Example\n",
    "plt.style.use('ggplot')\n",
    "schedule = CustomSchedule()\n",
    "plt.plot(schedule(tf.range(25000, dtype=tf.float32)))\n",
    "plt.xlabel(\"Steps\")\n",
    "plt.ylabel(\"Learning rate\")"
   ]
  },
  {
   "cell_type": "markdown",
   "id": "brutal-beach",
   "metadata": {},
   "source": [
    "### Setup Callbacks for Tensorboard"
   ]
  },
  {
   "cell_type": "code",
   "execution_count": null,
   "id": "pharmaceutical-endorsement",
   "metadata": {},
   "outputs": [],
   "source": [
    "start_profile_batch = steps+10\n",
    "stop_profile_batch = start_profile_batch + 100\n",
    "profile_range = f\"{start_profile_batch},{stop_profile_batch}\"\n",
    "\n",
    "log_path = log_dir + \"/\" + datetime.datetime.now().strftime(\"%Y-%m-%d_%H:%M:%S\")\n",
    "tensorboard_callback = tf.keras.callbacks.TensorBoard(log_dir=log_path, histogram_freq=1,\n",
    "                                                     update_freq=20,profile_batch=profile_range)\n",
    "\n",
    "checkpoint_filepath = save_path + \"/\" + \"T5-{epoch:04d}-{val_loss:.4f}.ckpt\"\n",
    "model_checkpoint_callback = tf.keras.callbacks.ModelCheckpoint(\n",
    "    filepath=checkpoint_filepath,\n",
    "    save_weights_only=False,\n",
    "    monitor='val_loss',\n",
    "    mode='min',\n",
    "    save_best_only=True)\n",
    "\n",
    "callbacks = [tensorboard_callback, model_checkpoint_callback] \n",
    "metrics = [tf.keras.metrics.SparseTopKCategoricalAccuracy(name='accuracy') ]"
   ]
  },
  {
   "cell_type": "code",
   "execution_count": null,
   "id": "analyzed-savannah",
   "metadata": {},
   "outputs": [],
   "source": [
    "learning_rate = CustomSchedule() # learning_rate = 0.001  # Instead set a static learning rate\n",
    "optimizer = tf.keras.optimizers.Adam(learning_rate)"
   ]
  },
  {
   "cell_type": "markdown",
   "id": "other-platinum",
   "metadata": {},
   "source": [
    "### Init Model"
   ]
  },
  {
   "cell_type": "code",
   "execution_count": null,
   "id": "elder-scoop",
   "metadata": {
    "lines_to_next_cell": 2
   },
   "outputs": [],
   "source": [
    "model = T5Wrapper.from_pretrained('t5-small')"
   ]
  },
  {
   "cell_type": "code",
   "execution_count": null,
   "id": "uniform-henry",
   "metadata": {},
   "outputs": [],
   "source": [
    "model.compile(optimizer=optimizer, metrics=metrics)\n",
    "model.summary()"
   ]
  },
  {
   "cell_type": "code",
   "execution_count": null,
   "id": "steady-polymer",
   "metadata": {},
   "outputs": [],
   "source": [
    "#Print out structure of the model\n",
    "# keras.utils.plot_model(model, show_shapes=True, dpi=90)"
   ]
  },
  {
   "cell_type": "markdown",
   "id": "initial-immune",
   "metadata": {},
   "source": [
    "### Start Tensorboard\n"
   ]
  },
  {
   "cell_type": "code",
   "execution_count": null,
   "id": "recorded-maintenance",
   "metadata": {},
   "outputs": [],
   "source": [
    "%load_ext tensorboard\n",
    "%tensorboard --logdir f\"{base_dir}/tf_data/experiments/t5/logs\""
   ]
  },
  {
   "cell_type": "code",
   "execution_count": null,
   "id": "sorted-universal",
   "metadata": {},
   "outputs": [],
   "source": [
    "epochs_done = 0\n",
    "model.fit(tf_train_ds, epochs=epochs, steps_per_epoch=steps, callbacks=callbacks, \n",
    "          validation_data=tf_valid_ds, validation_steps=valid_steps, initial_epoch=epochs_done)"
   ]
  },
  {
   "cell_type": "markdown",
   "id": "accessory-carol",
   "metadata": {},
   "source": [
    "<hr>"
   ]
  },
  {
   "cell_type": "markdown",
   "id": "public-taiwan",
   "metadata": {},
   "source": [
    "### Generate Results + Metrics"
   ]
  },
  {
   "cell_type": "code",
   "execution_count": null,
   "id": "premier-movie",
   "metadata": {
    "lines_to_next_cell": 0
   },
   "outputs": [],
   "source": [
    "gen_params = {'num_beams': 1, \n",
    "              'max_length': 60,\n",
    "              'min_length': 20, \n",
    "              'early_stopping': True,\n",
    "              'do_sample': False,\n",
    "              'no_repeat_ngram_size': 2 \n",
    "             }\n",
    "\n",
    "#Returns a list of all the model generated outputs\n",
    "model_ouput = get_model_output(model, tokenizer, {}, None, tf_valid_ds, None)"
   ]
  },
  {
   "cell_type": "code",
   "execution_count": null,
   "id": "missing-syria",
   "metadata": {
    "lines_to_next_cell": 2
   },
   "outputs": [],
   "source": [
    "#Write model outputs\n",
    "v_out = model_ouput['validation']['output']\n",
    "ts_val=time.strftime(\"%Y%m%d_%H%M\")\n",
    "print(ts_val)\n",
    "write_model_output(valid_ds, \"validation\", ts_val, v_out, write_path=exp_dir)"
   ]
  },
  {
   "cell_type": "code",
   "execution_count": null,
   "id": "contained-blair",
   "metadata": {},
   "outputs": [],
   "source": [
    "# Let's Use E2E Evaluation Metrics\n",
    "scores = compute_metrics(exp_dir, base_dir, ts_val, 'validation', gen_params)\n",
    "print(scores)"
   ]
  },
  {
   "cell_type": "code",
   "execution_count": null,
   "id": "constant-welsh",
   "metadata": {},
   "outputs": [],
   "source": [
    "print(scores)\n",
    "save_metrics(exp_dir, ts_val, scores)"
   ]
  },
  {
   "cell_type": "markdown",
   "id": "manual-capitol",
   "metadata": {},
   "source": [
    "#### If we like the scores and want to save the scores to our model track\n",
    "(We should probably club this with when we save to S3)"
   ]
  },
  {
   "cell_type": "markdown",
   "id": "spoken-sight",
   "metadata": {
    "lines_to_next_cell": 2
   },
   "source": [
    "### Save Model (only if its worth it)"
   ]
  },
  {
   "cell_type": "code",
   "execution_count": null,
   "id": "following-antibody",
   "metadata": {},
   "outputs": [],
   "source": [
    "# Keep for AWS path\n",
    "model.save_pretrained(f'{model_path}')\n",
    "# save_model_to_s3(model,base_dir, ts_val)"
   ]
  },
  {
   "cell_type": "markdown",
   "id": "gross-jordan",
   "metadata": {},
   "source": [
    "### Load Model"
   ]
  },
  {
   "cell_type": "code",
   "execution_count": null,
   "id": "unavailable-italian",
   "metadata": {
    "lines_to_next_cell": 0
   },
   "outputs": [],
   "source": [
    "#Below is an optional step to load a pre-trained and saved model to directly run predictions.\n",
    "\n",
    "#model = T5Wrapper.from_pretrained(model_path) #to be uncommented when required. "
   ]
  },
  {
   "cell_type": "code",
   "execution_count": null,
   "id": "iraqi-strategy",
   "metadata": {
    "lines_to_next_cell": 2
   },
   "outputs": [],
   "source": []
  }
 ],
 "metadata": {
  "jupytext": {
   "encoding": "# -*- coding: utf-8 -*-",
   "formats": "ipynb,py:light"
  },
  "kernelspec": {
   "display_name": "Python 3",
   "language": "python",
   "name": "python3"
  }
 },
 "nbformat": 4,
 "nbformat_minor": 5
}
