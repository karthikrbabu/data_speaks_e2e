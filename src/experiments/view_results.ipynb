{
 "cells": [
  {
   "cell_type": "code",
   "execution_count": null,
   "id": "suitable-transfer",
   "metadata": {},
   "outputs": [],
   "source": [
    "import json\n",
    "import pandas as pd\n",
    "import numpy as np\n",
    "from tabulate import tabulate\n",
    "import os\n",
    "\n",
    "pd.set_option('display.max_colwidth', None)"
   ]
  },
  {
   "cell_type": "markdown",
   "id": "monthly-grove",
   "metadata": {},
   "source": [
    "### Indicate in the below cell, whether you want to look at all experiments ~ OR~ just a single experiment"
   ]
  },
  {
   "cell_type": "code",
   "execution_count": null,
   "id": "faced-mother",
   "metadata": {},
   "outputs": [],
   "source": [
    "def get_exp(path):\n",
    "    \"\"\" Get Experiment name\"\"\"\n",
    "    path_list = path.split('/')\n",
    "    exp_name = path_list[-4]\n",
    "    return exp_name"
   ]
  },
  {
   "cell_type": "code",
   "execution_count": null,
   "id": "recreational-whole",
   "metadata": {},
   "outputs": [],
   "source": [
    "experiment_name = 'final_experiments'"
   ]
  },
  {
   "cell_type": "code",
   "execution_count": null,
   "id": "conceptual-malaysia",
   "metadata": {},
   "outputs": [],
   "source": [
    "if not experiment_name or experiment_name == 'all':\n",
    "    exp_folders = [x[0] for x in os.walk('./') if 'output/2021' in x[0]]\n",
    "else:\n",
    "    exp_folders = [x[0] for x in os.walk(f'./{experiment_name}') if 'output/2021' in x[0]]\n",
    "\n",
    "print(\"Total Experiments: \", len(exp_folders))\n",
    "print()\n",
    "print(\"Sample:\")\n",
    "print(np.array(exp_folders[:5]))\n"
   ]
  },
  {
   "cell_type": "markdown",
   "id": "national-pricing",
   "metadata": {},
   "source": [
    "### Load Experiment Results"
   ]
  },
  {
   "cell_type": "code",
   "execution_count": null,
   "id": "planned-protein",
   "metadata": {
    "lines_to_next_cell": 0
   },
   "outputs": [],
   "source": [
    "result = None\n",
    "exp_count = 1\n",
    "for folder in exp_folders:\n",
    "    files = os.listdir(f'{folder}')\n",
    "    for file in files:\n",
    "        if file.endswith(\".csv\"):\n",
    "#             print(f'Exp #{exp_count}: {folder}/{file}')\n",
    "            exp_count += 1\n",
    "            cur_exp = pd.read_csv(f'{folder}/{file}')\n",
    "            if result is None:\n",
    "                cols = list(cur_exp.columns)\n",
    "                result = pd.DataFrame(columns=cols)\n",
    "            result = pd.concat([result, cur_exp])\n",
    "\n",
    "print(result.shape)"
   ]
  },
  {
   "cell_type": "markdown",
   "id": "impaired-multimedia",
   "metadata": {
    "lines_to_next_cell": 2
   },
   "source": [
    "### Get experiment names"
   ]
  },
  {
   "cell_type": "code",
   "execution_count": null,
   "id": "american-custom",
   "metadata": {},
   "outputs": [],
   "source": [
    "# Get experiment names\n",
    "result['exp'] = result['File'].apply(lambda x: get_exp(x))\n",
    "result = result.drop(['File'], axis=1)\n",
    "result.head()"
   ]
  },
  {
   "cell_type": "code",
   "execution_count": null,
   "id": "contained-audio",
   "metadata": {},
   "outputs": [],
   "source": [
    "# Get Each group in sorted order by BLEU score\n",
    "result = result.groupby([\"exp\"]).apply(lambda x: x.sort_values([\"BLEU\"], ascending = False)).reset_index(drop=True)"
   ]
  },
  {
   "cell_type": "code",
   "execution_count": null,
   "id": "tender-swift",
   "metadata": {},
   "outputs": [],
   "source": [
    "exp_names = result['exp'].unique()\n",
    "exp_names"
   ]
  },
  {
   "cell_type": "code",
   "execution_count": null,
   "id": "revolutionary-temple",
   "metadata": {},
   "outputs": [],
   "source": [
    "for exp in exp_names:\n",
    "    print(exp)\n",
    "    top3rows = result[result['exp'] == exp][:3]\n",
    "#     top3rows = top3rows.drop(['CIDEr','NIST','METEOR','ROUGE_L'], axis=1)\n",
    "    print(tabulate(top3rows, headers='keys', tablefmt='psql'))\n",
    "    \n",
    "    print()\n",
    "    print()"
   ]
  },
  {
   "cell_type": "code",
   "execution_count": null,
   "id": "incredible-institute",
   "metadata": {},
   "outputs": [],
   "source": [
    "result.sort_values(by='BLEU', ascending=False)"
   ]
  },
  {
   "cell_type": "code",
   "execution_count": null,
   "id": "blank-thong",
   "metadata": {},
   "outputs": [],
   "source": [
    "top20 = result.sort_values(by='BLEU', ascending=False)[:20]\n",
    "top20.head()"
   ]
  },
  {
   "cell_type": "code",
   "execution_count": null,
   "id": "settled-kennedy",
   "metadata": {},
   "outputs": [],
   "source": [
    "print(top20.drop([\"params\"], axis=1)[:10].to_latex(index=False))"
   ]
  },
  {
   "cell_type": "code",
   "execution_count": null,
   "id": "printable-reference",
   "metadata": {},
   "outputs": [],
   "source": [
    "result.sort_values(by='version', ascending=False)"
   ]
  },
  {
   "cell_type": "code",
   "execution_count": null,
   "id": "damaged-verse",
   "metadata": {},
   "outputs": [],
   "source": []
  }
 ],
 "metadata": {
  "jupytext": {
   "formats": "ipynb,py:light"
  },
  "kernelspec": {
   "display_name": "Python 3",
   "language": "python",
   "name": "python3"
  }
 },
 "nbformat": 4,
 "nbformat_minor": 5
}
