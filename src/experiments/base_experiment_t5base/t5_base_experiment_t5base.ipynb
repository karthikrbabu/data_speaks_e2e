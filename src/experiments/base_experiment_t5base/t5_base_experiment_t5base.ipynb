{
 "cells": [
  {
   "cell_type": "markdown",
   "id": "designed-witness",
   "metadata": {},
   "source": [
    "# T5 Model Base Implementation\n",
    "\n",
    "The purpose of this notebook is to demonstrate training using tensorflow 2 and keras. This notebook includes tf Data pipelines for build any other NLP task in a text to text fashion. Anyone can adapt the data pipeline to thier own datasets. Uses the efficient [Datasets](https://github.com/huggingface/datasets) from 🤗 as source for training.\n",
    "\n",
    "#### Features:\n",
    "- Train TF T5 on E2E Cleaned Data to Text Problem\n",
    "- Train T5 using keras trainer fucntion\n",
    "- tf.Data pipeline\n",
    "- [Datasets from 🤗](https://github.com/huggingface/datasets) as source\n",
    "- Log metrics using tensorboard\n",
    "- Profile your experiment with the brand new tensorflow profiler !!\n",
    "\n",
    "#### Steps:\n",
    "* Import Libraries\n",
    "* Load Train/Dev/Test Data\n",
    "* Config Definitions\n",
    "* Pre-process Data (Tensors)\n",
    "* Quick Tensor EDA\n",
    "* Tensorboard Loading\n",
    "* Optimizer Init\n",
    "* Train Model\n",
    "* Evaluate Model"
   ]
  },
  {
   "cell_type": "code",
   "execution_count": null,
   "id": "opponent-missouri",
   "metadata": {
    "lines_to_next_cell": 2
   },
   "outputs": [],
   "source": [
    "#Utilities\n",
    "import pandas as pd\n",
    "import numpy as np\n",
    "from scipy import stats\n",
    "import math\n",
    "import json\n",
    "import re\n",
    "import os\n",
    "import datetime\n",
    "import time\n",
    "import collections\n",
    "from collections import defaultdict\n",
    "import warnings\n",
    "warnings.filterwarnings('ignore')\n",
    "\n",
    "#Plotting\n",
    "import matplotlib.pyplot as plt\n",
    "import plotly.express as px\n",
    "\n",
    "#NLTK \n",
    "from nltk.corpus import stopwords\n",
    "import nltk\n",
    "\n",
    "#HuggingFace\n",
    "import transformers\n",
    "from transformers import (TFAutoModelWithLMHead, AutoTokenizer,\n",
    "                            TFTrainer, TFTrainingArguments, T5Tokenizer, TFT5ForConditionalGeneration,\n",
    "                            TFT5Model, T5Config, pipeline)\n",
    "import datasets\n",
    "from datasets import load_dataset, list_datasets\n",
    "\n",
    "# Tensorflow\n",
    "import tensorflow as tf\n",
    "\n",
    "#AWS\n",
    "import boto3\n",
    "s3 = boto3.resource('s3')"
   ]
  },
  {
   "cell_type": "code",
   "execution_count": null,
   "id": "satisfied-scroll",
   "metadata": {},
   "outputs": [],
   "source": [
    "exp_dir = os.getcwd()\n",
    "print(\"Experiment Dir: \", exp_dir)"
   ]
  },
  {
   "cell_type": "code",
   "execution_count": null,
   "id": "hollow-earthquake",
   "metadata": {},
   "outputs": [],
   "source": [
    "base_dir = os.path.abspath(os.path.join(os.getcwd(),os.pardir, os.pardir, os.pardir))\n",
    "os.chdir(base_dir)\n",
    "print(\"Base Dir: \", base_dir)"
   ]
  },
  {
   "cell_type": "code",
   "execution_count": null,
   "id": "imposed-albania",
   "metadata": {},
   "outputs": [],
   "source": [
    "#Custom Utils Lib\n",
    "from src.utils.utils import (get_model_output, write_model_output, save_metrics,\n",
    "                         encode, to_tf_dataset, create_dataset, compute_metrics, save_model_to_s3)\n",
    "from src.classes.t5Wrapper import T5Wrapper\n",
    "from src.classes.customScheduler import CustomSchedule"
   ]
  },
  {
   "cell_type": "code",
   "execution_count": null,
   "id": "sapphire-upper",
   "metadata": {},
   "outputs": [],
   "source": [
    "tf_version = tf.__version__\n",
    "print(\"Tensorflow: \", tf_version)\n",
    "print(\"Transformers: \", transformers.__version__)\n",
    "print(\"Datasets: \", datasets.__version__)\n",
    "\n",
    "tf_version_split = tf_version.split('.')\n",
    "assert int(tf_version_split[0])==2 and int(tf_version_split[-2])>=3, f\"Tensorflow version should be '2.3+,x', given {tf_version}\"\n"
   ]
  },
  {
   "cell_type": "markdown",
   "id": "automatic-scenario",
   "metadata": {},
   "source": [
    "### Setup Directories"
   ]
  },
  {
   "cell_type": "code",
   "execution_count": null,
   "id": "amateur-litigation",
   "metadata": {},
   "outputs": [],
   "source": [
    "!ls {base_dir}"
   ]
  },
  {
   "cell_type": "code",
   "execution_count": null,
   "id": "pleased-portuguese",
   "metadata": {},
   "outputs": [],
   "source": [
    "#AWS box path we should keep\n",
    "tb_data_dir = f\"{exp_dir}/tf_data\"\n",
    "log_dir = f\"{tb_data_dir}/experiments/t5/logs\"\n",
    "save_path = f\"{tb_data_dir}/experiments/t5/models\"\n",
    "cache_path_train = f\"{tb_data_dir}/cache/t5.train\"\n",
    "cache_path_test = f\"{tb_data_dir}/cache/t5.test\"\n",
    "\n",
    "print(\"Experiment Base directory: \",exp_dir)\n",
    "model_path = f'{exp_dir}/model'\n",
    "print('model_path: ', model_path)"
   ]
  },
  {
   "cell_type": "markdown",
   "id": "burning-timer",
   "metadata": {},
   "source": [
    "### Init Tokenizer"
   ]
  },
  {
   "cell_type": "code",
   "execution_count": null,
   "id": "robust-situation",
   "metadata": {},
   "outputs": [],
   "source": [
    "tokenizer = AutoTokenizer.from_pretrained('t5-base')"
   ]
  },
  {
   "cell_type": "markdown",
   "id": "extreme-helena",
   "metadata": {},
   "source": [
    "### Process Train/ Validation"
   ]
  },
  {
   "cell_type": "code",
   "execution_count": null,
   "id": "internal-costa",
   "metadata": {},
   "outputs": [],
   "source": [
    "len(tokenizer)"
   ]
  },
  {
   "cell_type": "code",
   "execution_count": null,
   "id": "worst-absence",
   "metadata": {},
   "outputs": [],
   "source": [
    "train = load_dataset('e2e_nlg_cleaned', split='train')\n",
    "validation = load_dataset('e2e_nlg_cleaned', split='validation')\n",
    "\n",
    "train.features"
   ]
  },
  {
   "cell_type": "code",
   "execution_count": null,
   "id": "desirable-danger",
   "metadata": {},
   "outputs": [],
   "source": [
    "data = next(iter(train))\n",
    "print(\"Example data from the dataset: \\n\", data)"
   ]
  },
  {
   "cell_type": "markdown",
   "id": "designing-remove",
   "metadata": {},
   "source": [
    "### Init Config"
   ]
  },
  {
   "cell_type": "code",
   "execution_count": null,
   "id": "willing-operation",
   "metadata": {},
   "outputs": [],
   "source": [
    "warmup_steps = 1e4\n",
    "epochs = 5\n",
    "batch_size = 30\n",
    "encoder_max_len = 30\n",
    "decoder_max_len = 30\n",
    "buffer_size = 1000\n",
    "ntrain = len(train)\n",
    "nvalid = len(validation)\n",
    "steps = int((ntrain//epochs)// batch_size)\n",
    "valid_steps = int((nvalid//epochs)// batch_size)\n",
    "\n",
    "print(\"Train Data Length: \", ntrain)\n",
    "print(\"Validation Data Length: \", nvalid)\n",
    "print(\"Total Steps: \", steps)\n",
    "print(\"Total Validation Steps: \", valid_steps)\n",
    "print(\"Batch Size: \", batch_size)\n",
    "print(\"Total Epochs: \", epochs)"
   ]
  },
  {
   "cell_type": "markdown",
   "id": "mathematical-grove",
   "metadata": {},
   "source": [
    "## Data Pipeline"
   ]
  },
  {
   "cell_type": "markdown",
   "id": "psychological-airplane",
   "metadata": {},
   "source": [
    "### Process Train/Validation"
   ]
  },
  {
   "cell_type": "code",
   "execution_count": null,
   "id": "quiet-refrigerator",
   "metadata": {},
   "outputs": [],
   "source": [
    "train_ds = train.map(lambda x: encode(x, tokenizer))\n",
    "valid_ds = validation.map(lambda x: encode(x, tokenizer))"
   ]
  },
  {
   "cell_type": "code",
   "execution_count": null,
   "id": "mighty-recovery",
   "metadata": {},
   "outputs": [],
   "source": [
    "ex = next(iter(train_ds))\n",
    "print(\"Example data from the mapped dataset: \\n\", ex)"
   ]
  },
  {
   "cell_type": "markdown",
   "id": "determined-rating",
   "metadata": {},
   "source": [
    "### Process Train/Validation =>  Tensors"
   ]
  },
  {
   "cell_type": "code",
   "execution_count": null,
   "id": "injured-disney",
   "metadata": {},
   "outputs": [],
   "source": [
    "tf_train_ds = to_tf_dataset(train_ds)\n",
    "tf_valid_ds = to_tf_dataset(valid_ds)"
   ]
  },
  {
   "cell_type": "markdown",
   "id": "lined-prime",
   "metadata": {},
   "source": [
    "### Build Train/ Validation =>  Model Ready Input"
   ]
  },
  {
   "cell_type": "code",
   "execution_count": null,
   "id": "blocked-silicon",
   "metadata": {},
   "outputs": [],
   "source": [
    "tf_train_ds= create_dataset(tf_train_ds, batch_size=batch_size, \n",
    "                         shuffling=True, cache_path = None)\n",
    "tf_valid_ds = create_dataset(tf_valid_ds, batch_size=batch_size, \n",
    "                         shuffling=False, cache_path = None)"
   ]
  },
  {
   "cell_type": "markdown",
   "id": "historical-alabama",
   "metadata": {},
   "source": [
    "### Custom Learning Rate Scheduler"
   ]
  },
  {
   "cell_type": "code",
   "execution_count": null,
   "id": "authentic-antarctica",
   "metadata": {
    "lines_to_next_cell": 2
   },
   "outputs": [],
   "source": [
    "#Example\n",
    "plt.style.use('ggplot')\n",
    "schedule = CustomSchedule()\n",
    "plt.plot(schedule(tf.range(25000, dtype=tf.float32)))\n",
    "plt.xlabel(\"Steps\")\n",
    "plt.ylabel(\"Learning rate\")"
   ]
  },
  {
   "cell_type": "markdown",
   "id": "missing-humanitarian",
   "metadata": {},
   "source": [
    "### Setup Callbacks for Tensorboard"
   ]
  },
  {
   "cell_type": "code",
   "execution_count": null,
   "id": "discrete-dinner",
   "metadata": {},
   "outputs": [],
   "source": [
    "start_profile_batch = steps+10\n",
    "stop_profile_batch = start_profile_batch + 100\n",
    "profile_range = f\"{start_profile_batch},{stop_profile_batch}\"\n",
    "\n",
    "log_path = log_dir + \"/\" + datetime.datetime.now().strftime(\"%Y-%m-%d_%H:%M:%S\")\n",
    "tensorboard_callback = tf.keras.callbacks.TensorBoard(log_dir=log_path, histogram_freq=1,\n",
    "                                                     update_freq=20,profile_batch=profile_range)\n",
    "\n",
    "checkpoint_filepath = save_path + \"/\" + \"T5-{epoch:04d}-{val_loss:.4f}.ckpt\"\n",
    "model_checkpoint_callback = tf.keras.callbacks.ModelCheckpoint(\n",
    "    filepath=checkpoint_filepath,\n",
    "    save_weights_only=False,\n",
    "    monitor='val_loss',\n",
    "    mode='min',\n",
    "    save_best_only=True)\n",
    "\n",
    "callbacks = [tensorboard_callback, model_checkpoint_callback] \n",
    "metrics = [tf.keras.metrics.SparseTopKCategoricalAccuracy(name='accuracy') ]"
   ]
  },
  {
   "cell_type": "code",
   "execution_count": null,
   "id": "irish-cream",
   "metadata": {},
   "outputs": [],
   "source": [
    "metrics = [tf.keras.metrics.SparseTopKCategoricalAccuracy(name='accuracy') ]"
   ]
  },
  {
   "cell_type": "code",
   "execution_count": null,
   "id": "indoor-arcade",
   "metadata": {},
   "outputs": [],
   "source": [
    "learning_rate = CustomSchedule() # learning_rate = 0.001  # Instead set a static learning rate\n",
    "optimizer = tf.keras.optimizers.Adam(learning_rate)"
   ]
  },
  {
   "cell_type": "markdown",
   "id": "satisfactory-replacement",
   "metadata": {},
   "source": [
    "### Init Model"
   ]
  },
  {
   "cell_type": "code",
   "execution_count": null,
   "id": "structured-brush",
   "metadata": {
    "lines_to_next_cell": 2
   },
   "outputs": [],
   "source": [
    "model = T5Wrapper.from_pretrained('t5-base')"
   ]
  },
  {
   "cell_type": "code",
   "execution_count": null,
   "id": "absolute-bobby",
   "metadata": {},
   "outputs": [],
   "source": [
    "model.compile(optimizer=optimizer, metrics=metrics)\n",
    "model.summary()"
   ]
  },
  {
   "cell_type": "code",
   "execution_count": null,
   "id": "latter-brother",
   "metadata": {},
   "outputs": [],
   "source": [
    "#Print out structure of the model\n",
    "# keras.utils.plot_model(model, show_shapes=True, dpi=90)"
   ]
  },
  {
   "cell_type": "markdown",
   "id": "impossible-angle",
   "metadata": {},
   "source": [
    "### Start Tensorboard\n"
   ]
  },
  {
   "cell_type": "code",
   "execution_count": null,
   "id": "protected-safety",
   "metadata": {},
   "outputs": [],
   "source": [
    "%load_ext tensorboard\n",
    "%tensorboard --logdir f\"{base_dir}/tf_data/experiments/t5/logs\""
   ]
  },
  {
   "cell_type": "code",
   "execution_count": null,
   "id": "second-darkness",
   "metadata": {},
   "outputs": [],
   "source": [
    "epochs_done = 0\n",
    "model.fit(tf_train_ds, epochs=2, steps_per_epoch=steps, callbacks=callbacks,\n",
    "          validation_data=tf_valid_ds, validation_steps=valid_steps, initial_epoch=epochs_done)"
   ]
  },
  {
   "cell_type": "code",
   "execution_count": null,
   "id": "settled-advice",
   "metadata": {
    "lines_to_next_cell": 2
   },
   "outputs": [],
   "source": [
    "params_array = []\n",
    "\n",
    "\n",
    "param1 = {'num_beams': 7, 'max_length': 45, 'min_length': 10, 'early_stopping': True, 'do_sample': False, 'no_repeat_ngram_size': 2}\n",
    "\n",
    "param2 = {'num_beams': 7, 'max_length': 45, 'min_length': 10, 'early_stopping': True, 'do_sample': False, 'no_repeat_ngram_size': 2}\n",
    "\n",
    "\n",
    "param3 = {'max_length': 45, 'min_length': 10, 'early_stopping': True, 'do_sample': True, 'temperature': 0.1, 'top_k': 0, 'no_repeat_ngram_size': 2}\n",
    "\n",
    "param4 = {'max_length': 45, 'min_length': 10, 'early_stopping': True, 'do_sample': True, 'temperature': 0.1, 'top_k': 15, 'no_repeat_ngram_size': 2}\n",
    "\n",
    "param5 = {'max_length': 45, 'min_length': 10, 'early_stopping': True, 'do_sample': True, 'top_k': 2, 'no_repeat_ngram_size': 2}\n",
    "param6 = {'max_length': 45, 'min_length': 10, 'early_stopping': True, 'do_sample': True, 'top_p': 0.35, 'top_k': 0, 'no_repeat_ngram_size': 2}\n",
    "param7 = {'max_length': 45, 'min_length': 10, 'early_stopping': True, 'do_sample': True, 'top_p': 0.3, 'top_k': 20, 'no_repeat_ngram_size': 2}\n",
    "\n",
    "params_array.append(param1)\n",
    "params_array.append(param2)\n",
    "params_array.append(param3)\n",
    "params_array.append(param4)\n",
    "params_array.append(param5)\n",
    "params_array.append(param6)\n",
    "params_array.append(param7)"
   ]
  },
  {
   "cell_type": "code",
   "execution_count": null,
   "id": "prescribed-parade",
   "metadata": {},
   "outputs": [],
   "source": [
    "#Write model outputs\n",
    "params_array=[{}]\n",
    "for param_set in params_array:\n",
    "\n",
    "    #Returns a list of all the model generated outputs\n",
    "    model_ouput = get_model_output(model, tokenizer, param_set, None, tf_valid_ds, None)\n",
    "\n",
    "    v_out = model_ouput['validation']['output']\n",
    "    ts_val=time.strftime(\"%Y%m%d_%H%M\")\n",
    "    print(ts_val)\n",
    "    write_model_output(valid_ds, \"validation\", ts_val, v_out, write_path=exp_dir)\n",
    "    \n",
    "    # Let's Use E2E Evaluation Metrics\n",
    "    scores = compute_metrics(exp_dir, base_dir, ts_val, 'validation', param_set)\n",
    "\n",
    "    print(scores)\n",
    "    \n",
    "    save_metrics(exp_dir, ts_val, scores) "
   ]
  },
  {
   "cell_type": "markdown",
   "id": "forward-cooking",
   "metadata": {},
   "source": [
    "<hr>"
   ]
  },
  {
   "cell_type": "markdown",
   "id": "effective-lingerie",
   "metadata": {},
   "source": [
    "### Generate Results + Metrics"
   ]
  },
  {
   "cell_type": "code",
   "execution_count": null,
   "id": "spoken-knock",
   "metadata": {
    "lines_to_next_cell": 0
   },
   "outputs": [],
   "source": [
    "\"\"\" Base Config\n",
    "gen_params = {'num_beams': 1, \n",
    "              'max_length': 60,\n",
    "              'min_length': 20, \n",
    "              'early_stopping': True,\n",
    "              'do_sample': False,\n",
    "              'no_repeat_ngram_size': 2 \n",
    "             }\n",
    "\"\"\"\n",
    "\"\"\"Updated Config\"\"\"\n",
    "\n",
    "\"\"\"\n",
    "gen_params = {'num_beams': 7,\n",
    "              'max_length': 45,\n",
    "              'min_length': 10,\n",
    "              'early_stopping': True,\n",
    "              'do_sample': False,\n",
    "              'no_repeat_ngram_size': 2}\n",
    "#Returns a list of all the model generated outputs\n",
    "model_ouput = get_model_output(model, tokenizer, {}, None, tf_valid_ds, None)\n",
    "#Write model outputs\n",
    "v_out = model_ouput['validation']['output']\n",
    "ts_val=time.strftime(\"%Y%m%d_%H%M\")\n",
    "print(ts_val)\n",
    "write_model_output(valid_ds, \"validation\", ts_val, v_out, write_path=exp_dir)\n",
    "\"\"\""
   ]
  },
  {
   "cell_type": "code",
   "execution_count": null,
   "id": "proved-hygiene",
   "metadata": {},
   "outputs": [],
   "source": [
    "\"\"\"\n",
    "# Let's Use E2E Evaluation Metrics\n",
    "scores = compute_metrics(exp_dir, base_dir, ts_val, 'validation', gen_params)\n",
    "print(scores)\n",
    "\"\"\""
   ]
  },
  {
   "cell_type": "code",
   "execution_count": null,
   "id": "domestic-commitment",
   "metadata": {},
   "outputs": [],
   "source": [
    "\"\"\"\n",
    "print(scores)\n",
    "save_metrics(exp_dir, ts_val, scores)\n",
    "\"\"\""
   ]
  },
  {
   "cell_type": "markdown",
   "id": "rental-provider",
   "metadata": {},
   "source": [
    "#### If we like the scores and want to save the scores to our model track\n",
    "(We should probably club this with when we save to S3)"
   ]
  },
  {
   "cell_type": "markdown",
   "id": "collective-cannon",
   "metadata": {
    "lines_to_next_cell": 2
   },
   "source": [
    "### Save Model (only if its worth it)"
   ]
  },
  {
   "cell_type": "code",
   "execution_count": null,
   "id": "polish-macintosh",
   "metadata": {},
   "outputs": [],
   "source": [
    "# Keep for AWS path\n",
    "#model.save_pretrained(f'{model_path}')\n",
    "# save_model_to_s3(model,base_dir, ts_val)"
   ]
  },
  {
   "cell_type": "markdown",
   "id": "medical-bracket",
   "metadata": {},
   "source": [
    "### Load Model"
   ]
  },
  {
   "cell_type": "code",
   "execution_count": null,
   "id": "mighty-whole",
   "metadata": {
    "lines_to_next_cell": 0
   },
   "outputs": [],
   "source": [
    "#Below is an optional step to load a pre-trained and saved model to directly run predictions.\n",
    "\n",
    "#model = T5Wrapper.from_pretrained(model_path) #to be uncommented when required. "
   ]
  },
  {
   "cell_type": "code",
   "execution_count": null,
   "id": "optimum-direction",
   "metadata": {},
   "outputs": [],
   "source": []
  },
  {
   "cell_type": "code",
   "execution_count": null,
   "id": "musical-exemption",
   "metadata": {},
   "outputs": [],
   "source": []
  },
  {
   "cell_type": "code",
   "execution_count": null,
   "id": "continuing-threshold",
   "metadata": {},
   "outputs": [],
   "source": []
  }
 ],
 "metadata": {
  "jupytext": {
   "encoding": "# -*- coding: utf-8 -*-",
   "formats": "ipynb,py:light"
  },
  "kernelspec": {
   "display_name": "Python 3",
   "language": "python",
   "name": "python3"
  }
 },
 "nbformat": 4,
 "nbformat_minor": 5
}
