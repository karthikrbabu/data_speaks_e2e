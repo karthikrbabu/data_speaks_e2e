{
 "cells": [
  {
   "cell_type": "markdown",
   "id": "grave-stream",
   "metadata": {},
   "source": [
    "# T5 Model Base Implementation\n",
    "\n",
    "The purpose of this notebook is to demonstrate training using tensorflow 2 and keras. This notebook includes tf Data pipelines for build any other NLP task in a text to text fashion. Anyone can adapt the data pipeline to thier own datasets. Uses the efficient [Datasets](https://github.com/huggingface/datasets) from 🤗 as source for training.\n",
    "\n",
    "#### Features:\n",
    "- Train TF T5 on E2E Cleaned Data to Text Problem\n",
    "- Train T5 using keras trainer fucntion\n",
    "- tf.Data pipeline\n",
    "- [Datasets from 🤗](https://github.com/huggingface/datasets) as source\n",
    "- Log metrics using tensorboard\n",
    "- Profile your experiment with the brand new tensorflow profiler !!\n",
    "\n",
    "#### Steps:\n",
    "* Import Libraries\n",
    "* Load Train/Dev/Test Data\n",
    "* Config Definitions\n",
    "* Pre-process Data (Tensors)\n",
    "* Quick Tensor EDA\n",
    "* Tensorboard Loading\n",
    "* Optimizer Init\n",
    "* Train Model\n",
    "* Evaluate Model"
   ]
  },
  {
   "cell_type": "code",
   "execution_count": null,
   "id": "accessory-parallel",
   "metadata": {
    "lines_to_next_cell": 2
   },
   "outputs": [],
   "source": [
    "#Utilities\n",
    "import pandas as pd\n",
    "import numpy as np\n",
    "from scipy import stats\n",
    "import math\n",
    "import json\n",
    "import re\n",
    "import os\n",
    "import datetime\n",
    "import time\n",
    "import collections\n",
    "from collections import defaultdict\n",
    "import warnings\n",
    "warnings.filterwarnings('ignore')\n",
    "\n",
    "#Plotting\n",
    "import matplotlib.pyplot as plt\n",
    "import plotly.express as px\n",
    "\n",
    "#NLTK \n",
    "from nltk.corpus import stopwords\n",
    "import nltk\n",
    "\n",
    "#HuggingFace\n",
    "import transformers\n",
    "from transformers import (TFAutoModelWithLMHead, AutoTokenizer,\n",
    "                            TFTrainer, TFTrainingArguments, T5Tokenizer, TFT5ForConditionalGeneration,\n",
    "                            TFT5Model, T5Config, pipeline)\n",
    "import datasets\n",
    "from datasets import load_dataset, list_datasets\n",
    "\n",
    "# Tensorflow\n",
    "import tensorflow as tf\n",
    "\n",
    "#AWS\n",
    "import boto3\n",
    "s3 = boto3.resource('s3')"
   ]
  },
  {
   "cell_type": "code",
   "execution_count": null,
   "id": "mineral-singles",
   "metadata": {},
   "outputs": [],
   "source": [
    "exp_dir = os.getcwd()\n",
    "print(\"Experiment Dir: \", exp_dir)"
   ]
  },
  {
   "cell_type": "code",
   "execution_count": null,
   "id": "fabulous-celtic",
   "metadata": {},
   "outputs": [],
   "source": [
    "base_dir = os.path.abspath(os.path.join(os.getcwd(),os.pardir, os.pardir, os.pardir))\n",
    "os.chdir(base_dir)\n",
    "print(\"Base Dir: \", base_dir)"
   ]
  },
  {
   "cell_type": "code",
   "execution_count": null,
   "id": "impossible-toronto",
   "metadata": {},
   "outputs": [],
   "source": [
    "#Custom Utils Lib\n",
    "from src.utils.utils import (get_model_output, write_model_output, save_metrics,\n",
    "                         encode, to_tf_dataset, create_dataset, compute_metrics, save_model_to_s3)\n",
    "from src.classes.t5Wrapper import T5Wrapper\n",
    "from src.classes.customScheduler import CustomSchedule"
   ]
  },
  {
   "cell_type": "code",
   "execution_count": null,
   "id": "turkish-mountain",
   "metadata": {},
   "outputs": [],
   "source": [
    "tf_version = tf.__version__\n",
    "print(\"Tensorflow: \", tf_version)\n",
    "print(\"Transformers: \", transformers.__version__)\n",
    "print(\"Datasets: \", datasets.__version__)\n",
    "\n",
    "tf_version_split = tf_version.split('.')\n",
    "assert int(tf_version_split[0])==2 and int(tf_version_split[-2])>=3, f\"Tensorflow version should be '2.3+,x', given {tf_version}\"\n"
   ]
  },
  {
   "cell_type": "markdown",
   "id": "super-rhythm",
   "metadata": {},
   "source": [
    "### Setup Directories"
   ]
  },
  {
   "cell_type": "code",
   "execution_count": null,
   "id": "oriental-gasoline",
   "metadata": {},
   "outputs": [],
   "source": [
    "!ls {base_dir}"
   ]
  },
  {
   "cell_type": "code",
   "execution_count": null,
   "id": "unavailable-football",
   "metadata": {},
   "outputs": [],
   "source": [
    "#AWS box path we should keep\n",
    "tb_data_dir = f\"{exp_dir}/tf_data\"\n",
    "log_dir = f\"{tb_data_dir}/experiments/t5/logs\"\n",
    "save_path = f\"{tb_data_dir}/experiments/t5/models\"\n",
    "cache_path_train = f\"{tb_data_dir}/cache/t5.train\"\n",
    "cache_path_test = f\"{tb_data_dir}/cache/t5.test\"\n",
    "\n",
    "print(\"Experiment Base directory: \",exp_dir)\n",
    "model_path = f'{exp_dir}/model'\n",
    "print('model_path: ', model_path)"
   ]
  },
  {
   "cell_type": "markdown",
   "id": "acoustic-blame",
   "metadata": {},
   "source": [
    "### Init Tokenizer"
   ]
  },
  {
   "cell_type": "code",
   "execution_count": null,
   "id": "chubby-encyclopedia",
   "metadata": {},
   "outputs": [],
   "source": [
    "tokenizer = AutoTokenizer.from_pretrained('t5-small', additional_special_tokens=['data_to_text:'])"
   ]
  },
  {
   "cell_type": "markdown",
   "id": "mathematical-convention",
   "metadata": {},
   "source": [
    "### Process Train/ Validation"
   ]
  },
  {
   "cell_type": "code",
   "execution_count": null,
   "id": "sonic-amount",
   "metadata": {},
   "outputs": [],
   "source": [
    "train = load_dataset('e2e_nlg_cleaned', split='train')\n",
    "validation = load_dataset('e2e_nlg_cleaned', split='validation')\n",
    "\n",
    "train.features"
   ]
  },
  {
   "cell_type": "code",
   "execution_count": null,
   "id": "patient-intellectual",
   "metadata": {},
   "outputs": [],
   "source": [
    "data = next(iter(train))\n",
    "print(\"Example data from the dataset: \\n\", data)"
   ]
  },
  {
   "cell_type": "markdown",
   "id": "opponent-douglas",
   "metadata": {},
   "source": [
    "### Init Config"
   ]
  },
  {
   "cell_type": "code",
   "execution_count": null,
   "id": "hidden-sierra",
   "metadata": {},
   "outputs": [],
   "source": [
    "warmup_steps = 1e4\n",
    "epochs = 7\n",
    "batch_size = 40\n",
    "encoder_max_len = 80\n",
    "decoder_max_len = 80\n",
    "buffer_size = 1000\n",
    "ntrain = len(train)\n",
    "nvalid = len(validation)\n",
    "steps = int((ntrain//epochs)// batch_size)\n",
    "valid_steps = int((nvalid//epochs)// batch_size)\n",
    "\n",
    "print(\"Train Data Length: \", ntrain)\n",
    "print(\"Validation Data Length: \", nvalid)\n",
    "print(\"Total Steps: \", steps)\n",
    "print(\"Total Validation Steps: \", valid_steps)\n",
    "print(\"Batch Size: \", batch_size)\n",
    "print(\"Total Epochs: \", epochs)"
   ]
  },
  {
   "cell_type": "markdown",
   "id": "orange-occupation",
   "metadata": {},
   "source": [
    "## Data Pipeline"
   ]
  },
  {
   "cell_type": "markdown",
   "id": "engaging-boston",
   "metadata": {},
   "source": [
    "### Process Train/Validation"
   ]
  },
  {
   "cell_type": "code",
   "execution_count": null,
   "id": "forward-trainer",
   "metadata": {},
   "outputs": [],
   "source": [
    "#train_ds = train.map(lambda x: encode(x, tokenizer))\n",
    "#valid_ds = validation.map(lambda x: encode(x, tokenizer))\n",
    "\n",
    "train_ds = train.map(lambda x: encode(x, tokenizer, encoder_max_len=encoder_max_len, decoder_max_len=decoder_max_len))\n",
    "valid_ds = validation.map(lambda x: encode(x, tokenizer, encoder_max_len=encoder_max_len, decoder_max_len=decoder_max_len))"
   ]
  },
  {
   "cell_type": "code",
   "execution_count": null,
   "id": "social-jefferson",
   "metadata": {},
   "outputs": [],
   "source": [
    "iterr = iter(train_ds)\n",
    "ex = next(iterr)\n",
    "print(\"Example data from the mapped dataset: \\n\", ex)"
   ]
  },
  {
   "cell_type": "code",
   "execution_count": null,
   "id": "illegal-landing",
   "metadata": {},
   "outputs": [],
   "source": [
    "ex = next(iterr)\n",
    "print(\"Example data from the mapped dataset: \\n\", ex)"
   ]
  },
  {
   "cell_type": "markdown",
   "id": "confidential-romance",
   "metadata": {},
   "source": [
    "### Process Train/Validation =>  Tensors"
   ]
  },
  {
   "cell_type": "code",
   "execution_count": null,
   "id": "sharp-worth",
   "metadata": {},
   "outputs": [],
   "source": [
    "tf_train_ds = to_tf_dataset(train_ds)\n",
    "tf_valid_ds = to_tf_dataset(valid_ds)"
   ]
  },
  {
   "cell_type": "markdown",
   "id": "extensive-playback",
   "metadata": {},
   "source": [
    "### Build Train/ Validation =>  Model Ready Input"
   ]
  },
  {
   "cell_type": "code",
   "execution_count": null,
   "id": "dangerous-wiring",
   "metadata": {},
   "outputs": [],
   "source": [
    "tf_train_ds= create_dataset(tf_train_ds, batch_size=batch_size, \n",
    "                         shuffling=True, cache_path = None)\n",
    "tf_valid_ds = create_dataset(tf_valid_ds, batch_size=batch_size, \n",
    "                         shuffling=False, cache_path = None)"
   ]
  },
  {
   "cell_type": "markdown",
   "id": "republican-confidentiality",
   "metadata": {},
   "source": [
    "### Custom Learning Rate Scheduler"
   ]
  },
  {
   "cell_type": "code",
   "execution_count": null,
   "id": "hearing-latter",
   "metadata": {
    "lines_to_next_cell": 2
   },
   "outputs": [],
   "source": [
    "#Example\n",
    "plt.style.use('ggplot')\n",
    "schedule = CustomSchedule()\n",
    "plt.plot(schedule(tf.range(25000, dtype=tf.float32)))\n",
    "plt.xlabel(\"Steps\")\n",
    "plt.ylabel(\"Learning rate\")"
   ]
  },
  {
   "cell_type": "markdown",
   "id": "divided-modeling",
   "metadata": {},
   "source": [
    "### Setup Callbacks for Tensorboard"
   ]
  },
  {
   "cell_type": "code",
   "execution_count": null,
   "id": "starting-banks",
   "metadata": {},
   "outputs": [],
   "source": [
    "start_profile_batch = steps+10\n",
    "stop_profile_batch = start_profile_batch + 100\n",
    "profile_range = f\"{start_profile_batch},{stop_profile_batch}\"\n",
    "\n",
    "log_path = log_dir + \"/\" + datetime.datetime.now().strftime(\"%Y-%m-%d_%H:%M:%S\")\n",
    "tensorboard_callback = tf.keras.callbacks.TensorBoard(log_dir=log_path, histogram_freq=1,\n",
    "                                                     update_freq=20,profile_batch=profile_range)\n",
    "\n",
    "checkpoint_filepath = save_path + \"/\" + \"T5-{epoch:04d}-{val_loss:.4f}.ckpt\"\n",
    "model_checkpoint_callback = tf.keras.callbacks.ModelCheckpoint(\n",
    "    filepath=checkpoint_filepath,\n",
    "    save_weights_only=False,\n",
    "    monitor='val_loss',\n",
    "    mode='min',\n",
    "    save_best_only=True)\n",
    "\n",
    "callbacks = [tensorboard_callback, model_checkpoint_callback] \n",
    "metrics = [tf.keras.metrics.SparseTopKCategoricalAccuracy(name='accuracy') ]"
   ]
  },
  {
   "cell_type": "code",
   "execution_count": null,
   "id": "destroyed-process",
   "metadata": {},
   "outputs": [],
   "source": [
    "#learning_rate = CustomSchedule() # learning_rate = 0.001  # Instead set a static learning rate\n",
    "learning_rate = 0.0005\n",
    "optimizer = tf.keras.optimizers.Adam(learning_rate)"
   ]
  },
  {
   "cell_type": "markdown",
   "id": "prerequisite-prior",
   "metadata": {},
   "source": [
    "### Init Model"
   ]
  },
  {
   "cell_type": "code",
   "execution_count": null,
   "id": "dominant-proposal",
   "metadata": {
    "lines_to_next_cell": 2
   },
   "outputs": [],
   "source": [
    "model = T5Wrapper.from_pretrained('t5-small')"
   ]
  },
  {
   "cell_type": "code",
   "execution_count": null,
   "id": "boring-tobago",
   "metadata": {},
   "outputs": [],
   "source": [
    "model.compile(optimizer=optimizer, metrics=metrics)\n",
    "model.summary()"
   ]
  },
  {
   "cell_type": "code",
   "execution_count": null,
   "id": "functioning-scheme",
   "metadata": {},
   "outputs": [],
   "source": [
    "#Print out structure of the model\n",
    "# keras.utils.plot_model(model, show_shapes=True, dpi=90)"
   ]
  },
  {
   "cell_type": "markdown",
   "id": "efficient-calendar",
   "metadata": {},
   "source": [
    "### Start Tensorboard\n"
   ]
  },
  {
   "cell_type": "code",
   "execution_count": null,
   "id": "downtown-groove",
   "metadata": {},
   "outputs": [],
   "source": [
    "%load_ext tensorboard\n",
    "%tensorboard --logdir f\"{base_dir}/tf_data/experiments/t5/logs\""
   ]
  },
  {
   "cell_type": "code",
   "execution_count": null,
   "id": "better-ethnic",
   "metadata": {},
   "outputs": [],
   "source": [
    "epochs_done = 0\n",
    "model.fit(tf_train_ds, epochs=epochs, steps_per_epoch=steps,\n",
    "          validation_data=tf_valid_ds, validation_steps=valid_steps, initial_epoch=epochs_done)"
   ]
  },
  {
   "cell_type": "markdown",
   "id": "julian-hollywood",
   "metadata": {},
   "source": [
    "<hr>"
   ]
  },
  {
   "cell_type": "markdown",
   "id": "greater-commission",
   "metadata": {},
   "source": [
    "### Generate Results + Metrics"
   ]
  },
  {
   "cell_type": "code",
   "execution_count": null,
   "id": "liquid-narrative",
   "metadata": {
    "lines_to_next_cell": 0
   },
   "outputs": [],
   "source": [
    "gen_params = {'num_beams': 7, \n",
    "              'max_length': 220,\n",
    "              'min_length': 20, \n",
    "              'early_stopping': False,\n",
    "              'do_sample': False,\n",
    "              'no_repeat_ngram_size': 2 \n",
    "             }\n",
    "\n",
    "#Returns a list of all the model generated outputs\n",
    "#model_ouput = get_model_output(model, tokenizer, {}, None, tf_valid_ds, None)\n",
    "model_ouput = get_model_output(model, tokenizer, gen_params, None, tf_valid_ds, None)"
   ]
  },
  {
   "cell_type": "code",
   "execution_count": null,
   "id": "manual-central",
   "metadata": {
    "lines_to_next_cell": 2
   },
   "outputs": [],
   "source": [
    "#Write model outputs\n",
    "v_out = model_ouput['validation']['output']\n",
    "ts_val=time.strftime(\"%Y%m%d_%H%M\")\n",
    "print(ts_val)\n",
    "write_model_output(valid_ds, \"validation\", ts_val, v_out, write_path=exp_dir)"
   ]
  },
  {
   "cell_type": "code",
   "execution_count": null,
   "id": "modified-posting",
   "metadata": {},
   "outputs": [],
   "source": [
    "# Let's Use E2E Evaluation Metrics\n",
    "scores = compute_metrics(exp_dir, base_dir, ts_val, 'validation', gen_params)\n",
    "print(scores)"
   ]
  },
  {
   "cell_type": "code",
   "execution_count": null,
   "id": "living-administrator",
   "metadata": {},
   "outputs": [],
   "source": [
    "print(scores)\n",
    "save_metrics(exp_dir, ts_val, scores)"
   ]
  },
  {
   "cell_type": "markdown",
   "id": "effective-valuation",
   "metadata": {},
   "source": [
    "#### If we like the scores and want to save the scores to our model track\n",
    "(We should probably club this with when we save to S3)"
   ]
  },
  {
   "cell_type": "markdown",
   "id": "departmental-eight",
   "metadata": {
    "lines_to_next_cell": 2
   },
   "source": [
    "### Save Model (only if its worth it)"
   ]
  },
  {
   "cell_type": "code",
   "execution_count": null,
   "id": "animal-bullet",
   "metadata": {},
   "outputs": [],
   "source": [
    "# Keep for AWS path\n",
    "model.save_pretrained(f'{model_path}')\n",
    "# save_model_to_s3(model,base_dir, ts_val)"
   ]
  },
  {
   "cell_type": "markdown",
   "id": "moving-passport",
   "metadata": {},
   "source": [
    "### Load Model"
   ]
  },
  {
   "cell_type": "code",
   "execution_count": null,
   "id": "painted-hepatitis",
   "metadata": {
    "lines_to_next_cell": 0
   },
   "outputs": [],
   "source": [
    "#Below is an optional step to load a pre-trained and saved model to directly run predictions.\n",
    "\n",
    "#model = T5Wrapper.from_pretrained(model_path) #to be uncommented when required. "
   ]
  },
  {
   "cell_type": "code",
   "execution_count": null,
   "id": "moderate-danger",
   "metadata": {},
   "outputs": [],
   "source": []
  },
  {
   "cell_type": "code",
   "execution_count": null,
   "id": "cheap-louisiana",
   "metadata": {},
   "outputs": [],
   "source": []
  },
  {
   "cell_type": "code",
   "execution_count": null,
   "id": "abandoned-moderator",
   "metadata": {},
   "outputs": [],
   "source": []
  }
 ],
 "metadata": {
  "jupytext": {
   "encoding": "# -*- coding: utf-8 -*-",
   "formats": "ipynb,py:light"
  },
  "kernelspec": {
   "display_name": "Python 3",
   "language": "python",
   "name": "python3"
  }
 },
 "nbformat": 4,
 "nbformat_minor": 5
}
