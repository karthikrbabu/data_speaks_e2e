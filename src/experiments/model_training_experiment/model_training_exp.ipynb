{
 "cells": [
  {
   "cell_type": "markdown",
   "id": "impressive-opposition",
   "metadata": {},
   "source": [
    "# T5 Model Base Implementation\n",
    "\n",
    "The purpose of this notebook is to demonstrate training using tensorflow 2 and keras. This notebook includes tf Data pipelines for build any other NLP task in a text to text fashion. Anyone can adapt the data pipeline to thier own datasets. Uses the efficient [Datasets](https://github.com/huggingface/datasets) from 🤗 as source for training.\n",
    "\n",
    "#### Features:\n",
    "- Train TF T5 on E2E Cleaned Data to Text Problem\n",
    "- Train T5 using keras trainer fucntion\n",
    "- tf.Data pipeline\n",
    "- [Datasets from 🤗](https://github.com/huggingface/datasets) as source\n",
    "- Log metrics using tensorboard\n",
    "- Profile your experiment with the brand new tensorflow profiler !!\n",
    "\n",
    "#### Steps:\n",
    "* Import Libraries\n",
    "* Load Train/Dev/Test Data\n",
    "* Config Definitions\n",
    "* Pre-process Data (Tensors)\n",
    "* Quick Tensor EDA\n",
    "* Tensorboard Loading\n",
    "* Optimizer Init\n",
    "* Train Model\n",
    "* Evaluate Model"
   ]
  },
  {
   "cell_type": "code",
   "execution_count": null,
   "id": "accepting-retention",
   "metadata": {
    "lines_to_next_cell": 2
   },
   "outputs": [],
   "source": [
    "#Utilities\n",
    "import pandas as pd\n",
    "import numpy as np\n",
    "from scipy import stats\n",
    "import math\n",
    "import json\n",
    "import re\n",
    "import os\n",
    "import datetime\n",
    "import time\n",
    "import collections\n",
    "from collections import defaultdict\n",
    "import warnings\n",
    "import traceback\n",
    "warnings.filterwarnings('ignore')\n",
    "\n",
    "#Plotting\n",
    "import matplotlib.pyplot as plt\n",
    "import plotly.express as px\n",
    "\n",
    "#NLTK \n",
    "from nltk.corpus import stopwords\n",
    "import nltk\n",
    "\n",
    "#HuggingFace\n",
    "import transformers\n",
    "from transformers import (TFAutoModelWithLMHead, AutoTokenizer,\n",
    "                            TFTrainer, TFTrainingArguments, T5Tokenizer, TFT5ForConditionalGeneration,\n",
    "                            TFT5Model, T5Config, pipeline)\n",
    "import datasets\n",
    "from datasets import load_dataset, list_datasets\n",
    "\n",
    "# Tensorflow\n",
    "import tensorflow as tf\n",
    "import keras\n",
    "\n",
    "#AWS\n",
    "import boto3\n",
    "s3 = boto3.resource('s3')"
   ]
  },
  {
   "cell_type": "code",
   "execution_count": null,
   "id": "dietary-command",
   "metadata": {},
   "outputs": [],
   "source": [
    "exp_dir = os.getcwd()\n",
    "print(\"Experiment Dir: \", exp_dir)"
   ]
  },
  {
   "cell_type": "code",
   "execution_count": null,
   "id": "toxic-prime",
   "metadata": {},
   "outputs": [],
   "source": [
    "base_dir = os.path.abspath(os.path.join(os.getcwd(),os.pardir, os.pardir, os.pardir))\n",
    "os.chdir(base_dir)\n",
    "print(\"Base Dir: \", base_dir)"
   ]
  },
  {
   "cell_type": "code",
   "execution_count": null,
   "id": "surface-services",
   "metadata": {},
   "outputs": [],
   "source": [
    "#Custom Utils Lib\n",
    "from src.utils.utils import (get_model_output, write_model_output, save_metrics,\n",
    "                         encode, to_tf_dataset, create_dataset, compute_metrics, save_model_to_s3)\n",
    "from src.classes.t5Wrapper import T5Wrapper\n",
    "from src.classes.customScheduler import CustomSchedule"
   ]
  },
  {
   "cell_type": "code",
   "execution_count": null,
   "id": "bacterial-reading",
   "metadata": {},
   "outputs": [],
   "source": [
    "tf_version = tf.__version__\n",
    "print(\"Tensorflow: \", tf_version)\n",
    "print(\"Transformers: \", transformers.__version__)\n",
    "print(\"Datasets: \", datasets.__version__)\n",
    "\n",
    "tf_version_split = tf_version.split('.')\n",
    "assert int(tf_version_split[0])==2 and int(tf_version_split[-2])>=3, f\"Tensorflow version should be '2.3+,x', given {tf_version}\"\n"
   ]
  },
  {
   "cell_type": "markdown",
   "id": "traditional-stomach",
   "metadata": {},
   "source": [
    "### Setup Directories"
   ]
  },
  {
   "cell_type": "code",
   "execution_count": null,
   "id": "violent-battle",
   "metadata": {},
   "outputs": [],
   "source": [
    "!ls {base_dir}"
   ]
  },
  {
   "cell_type": "code",
   "execution_count": null,
   "id": "computational-grove",
   "metadata": {},
   "outputs": [],
   "source": [
    "#AWS box path we should keep\n",
    "tb_data_dir = f\"{exp_dir}/tf_data\"\n",
    "log_dir = f\"{tb_data_dir}/experiments/t5/logs\"\n",
    "save_path = f\"{tb_data_dir}/experiments/t5/models\"\n",
    "cache_path_train = f\"{tb_data_dir}/cache/t5.train\"\n",
    "cache_path_test = f\"{tb_data_dir}/cache/t5.test\"\n",
    "\n",
    "print(\"Experiment Base directory: \",exp_dir)\n",
    "model_path = f'{exp_dir}/model'\n",
    "print('model_path: ', model_path)"
   ]
  },
  {
   "cell_type": "markdown",
   "id": "married-tradition",
   "metadata": {},
   "source": [
    "### Load Train/ Validation"
   ]
  },
  {
   "cell_type": "code",
   "execution_count": null,
   "id": "distributed-grill",
   "metadata": {},
   "outputs": [],
   "source": [
    "train = load_dataset('e2e_nlg_cleaned', split='train')\n",
    "validation = load_dataset('e2e_nlg_cleaned', split='validation')"
   ]
  },
  {
   "cell_type": "markdown",
   "id": "willing-object",
   "metadata": {},
   "source": [
    "### Init Config"
   ]
  },
  {
   "cell_type": "code",
   "execution_count": null,
   "id": "arranged-assembly",
   "metadata": {},
   "outputs": [],
   "source": [
    "warmup_steps = 1e4\n",
    "epochs = 5\n",
    "batch_size = 30\n",
    "buffer_size = 1000\n",
    "ntrain = len(train)\n",
    "nvalid = len(validation)\n",
    "steps = int((ntrain//epochs)// batch_size)\n",
    "valid_steps = int((nvalid//epochs)// batch_size)\n",
    "\n",
    "print(\"Train Data Length: \", ntrain)\n",
    "print(\"Validation Data Length: \", nvalid)\n",
    "print(\"Total Steps: \", steps)\n",
    "print(\"Total Validation Steps: \", valid_steps)\n",
    "print(\"Batch Size: \", batch_size)\n",
    "print(\"Total Epochs: \", epochs)"
   ]
  },
  {
   "cell_type": "code",
   "execution_count": null,
   "id": "quality-arabic",
   "metadata": {},
   "outputs": [],
   "source": [
    "class TimeHistory(keras.callbacks.Callback):\n",
    "    def on_train_begin(self, logs={}):\n",
    "        self.times = []\n",
    "\n",
    "    def on_epoch_begin(self, batch, logs={}):\n",
    "        self.epoch_time_start = time.time()\n",
    "\n",
    "    def on_epoch_end(self, batch, logs={}):\n",
    "        self.times.append(time.time() - self.epoch_time_start)"
   ]
  },
  {
   "cell_type": "markdown",
   "id": "forward-clause",
   "metadata": {},
   "source": [
    "### Fit Model Variants"
   ]
  },
  {
   "cell_type": "code",
   "execution_count": null,
   "id": "appointed-still",
   "metadata": {},
   "outputs": [],
   "source": [
    "#Grid Search\n",
    "\n",
    "optimizer_list = ['rmsprop','adam', 'adamax'] #'adagrad', 'sgd'] gave poor results\n",
    "learning_rates = [0.0005, 0.0001, 0.001, 0.005, 'custom']\n",
    "model_sizes = ['t5-small'] #'t5-base'\n",
    "special_tokens = [False, True]\n",
    "encoder_max_lens = [60, 90, 120]\n",
    "decoder_max_lens = [60, 90, 120]\n",
    "\n",
    "\n",
    "metrics = [tf.keras.metrics.SparseTopKCategoricalAccuracy(name='accuracy')]\n",
    "\n",
    "model_variants = []\n",
    "model_count = 1"
   ]
  },
  {
   "cell_type": "code",
   "execution_count": null,
   "id": "stable-sustainability",
   "metadata": {
    "lines_to_next_cell": 2
   },
   "outputs": [],
   "source": [
    "def compute(model_size, opt_m, opt, learning_rate, encoder_max_len, decoder_max_len, is_special_tokens):\n",
    "    \"\"\"\n",
    "    Modularize Compute call in case of failures\n",
    "    \"\"\"\n",
    "    global metrics\n",
    "    global tf_train_ds\n",
    "    global tf_valid_ds\n",
    "    global steps\n",
    "    global valid_steps\n",
    "    global epochs\n",
    "    global model_variants\n",
    "    global model_count\n",
    "    \n",
    "    \n",
    "    print(f\"opt: {opt}  learning_rate: {learning_rate} encoder_max_len: {encoder_max_len} decoder_max_len: {decoder_max_len} is_special_tokens:{is_special_tokens}\")\n",
    "    \n",
    "    if 'model' in globals(): del model\n",
    "\n",
    "    #Compile Model\n",
    "    model = T5Wrapper.from_pretrained(model_size)\n",
    "    model.compile(optimizer=opt_m, metrics=metrics)\n",
    "\n",
    "    #Model Fit\n",
    "    epochs_done=0\n",
    "    time_callback = TimeHistory()\n",
    "    history_callback = model.fit(tf_train_ds, epochs=epochs, steps_per_epoch=steps, callbacks=[time_callback],\n",
    "                                validation_data=tf_valid_ds, validation_steps=valid_steps, initial_epoch=epochs_done)\n",
    "\n",
    "    #Call Backs Data\n",
    "    times = time_callback.times\n",
    "    fit_data = history_callback.history\n",
    "\n",
    "    #Data points \n",
    "    total_time = sum(times)\n",
    "    avg_epoch_time = np.mean(times)\n",
    "\n",
    "    epoch_num = int(np.argmin(fit_data['val_loss']))\n",
    "    train_accuracy = np.max(fit_data['accuracy'])\n",
    "    train_loss = np.min(fit_data['loss'])\n",
    "    val_accuracy = np.max(fit_data['val_accuracy'])\n",
    "    val_loss = np.min(fit_data['val_loss'])\n",
    "    lr_mod = np.min(fit_data['lr'])\n",
    "\n",
    "\n",
    "    #Gather Details\n",
    "    model_details = {\n",
    "        'id': model_count,\n",
    "        'model_size': model_size,\n",
    "        'optimizer': opt,\n",
    "        'learning_rate': learning_rate if type(learning_rate) == float else 'custom',\n",
    "        'lr_mod': lr_mod,\n",
    "        'train_accuracy': train_accuracy,\n",
    "        'train_loss':train_loss,\n",
    "        'val_accuracy': val_accuracy,\n",
    "        'val_loss': val_loss,\n",
    "        'total_time': round(total_time/60, 2),\n",
    "        'avg_epoch_time': avg_epoch_time,\n",
    "        'epoch_num': epoch_num,\n",
    "        'encoder_max_len': encoder_max_len,\n",
    "        'decoder_max_len': decoder_max_len,\n",
    "        'is_special_token': is_special_tokens,\n",
    "       }\n",
    "\n",
    "    model_variants.append(model_details)"
   ]
  },
  {
   "cell_type": "code",
   "execution_count": null,
   "id": "liked-naples",
   "metadata": {},
   "outputs": [],
   "source": [
    "#Execute\n",
    "for model_size in model_sizes:\n",
    "    for encoder_max_len in encoder_max_lens:\n",
    "        for decoder_max_len in decoder_max_lens:    \n",
    "            for is_special in special_tokens:\n",
    "\n",
    "                if 'tokenizer' in globals(): del tokenizer\n",
    "                if 'train_ds' in globals(): del train_ds\n",
    "                if 'valid_ds' in globals(): del valid_ds\n",
    "                if 'tf_train_ds' in globals(): del tf_train_ds\n",
    "                if 'tf_valid_ds' in globals(): del tf_valid_ds\n",
    "\n",
    "                #Is Special Token\n",
    "                is_special_tokens = 'yes' if is_special else 'no' \n",
    "\n",
    "\n",
    "                ### Init Tokenizer\n",
    "                tokenizer = AutoTokenizer.from_pretrained(model_size, additional_special_tokens=['data_to_text:']) if is_special else AutoTokenizer.from_pretrained(model_size)\n",
    "\n",
    "                ### Process Train/ Validation\n",
    "                train_ds = train.map(lambda x: encode(x, tokenizer, False, encoder_max_len=encoder_max_len, decoder_max_len=decoder_max_len))\n",
    "                valid_ds = validation.map(lambda x: encode(x, tokenizer, False, encoder_max_len=encoder_max_len, decoder_max_len=decoder_max_len))\n",
    "\n",
    "                ### Process Train/Validation =>  Tensors\n",
    "                tf_train_ds = to_tf_dataset(train_ds)\n",
    "                tf_valid_ds = to_tf_dataset(valid_ds)\n",
    "\n",
    "\n",
    "                ### Build Train/ Validation =>  Model Ready Input\n",
    "                tf_train_ds= create_dataset(tf_train_ds, batch_size=batch_size, \n",
    "                                 shuffling=True, cache_path = None)\n",
    "                tf_valid_ds = create_dataset(tf_valid_ds, batch_size=batch_size, \n",
    "                                 shuffling=False, cache_path = None)\n",
    "\n",
    "\n",
    "                for lr in learning_rates:\n",
    "                    for opt in optimizer_list:\n",
    "                        \n",
    "                        #### IF SOMETHING BREAKS PICKUP WHERE WE LEFT OFF\n",
    "                        if model_count < 152:\n",
    "                            print(f'Skipping: {model_count}')\n",
    "                            model_count +=1\n",
    "                            continue\n",
    "                        ####\n",
    "\n",
    "                        if lr == 'custom':\n",
    "                            lr = CustomSchedule()\n",
    "\n",
    "                        if opt == 'rmsprop':\n",
    "                            opt_m = tf.keras.optimizers.RMSprop(lr)\n",
    "\n",
    "                        elif opt == 'adam':\n",
    "                            opt_m = tf.keras.optimizers.Adam(lr)\n",
    "\n",
    "                        elif opt == 'adagrad':\n",
    "                            opt_m = tf.keras.optimizers.Adagrad(lr)\n",
    "\n",
    "                        elif opt == 'adamax':\n",
    "                            opt_m = tf.keras.optimizers.Adamax(lr)\n",
    "\n",
    "                        elif opt == 'sgd':\n",
    "                            opt_m = tf.keras.optimizers.SGD(lr)\n",
    "                            \n",
    "                        try:\n",
    "                            print(f\"Trying Model {model_count}\")\n",
    "                            compute(model_size, opt_m, opt, lr, encoder_max_len, decoder_max_len, is_special_tokens)\n",
    "                            model_count +=1\n",
    "                        except:\n",
    "\n",
    "                            if len(model_variants):\n",
    "                                print(\"WRITING OUT\")\n",
    "                                with open(f'{exp_dir}/exp_chpt/result_{model_count}.txt', 'w') as outfile:\n",
    "                                    json.dump(model_variants, outfile)\n",
    "                                traceback.print_exc()\n",
    "                            else:\n",
    "                                print(\"SKIPPING WRITE\") \n",
    "\n",
    "                try:\n",
    "        \n",
    "                    if len(model_variants):\n",
    "                        print(\"WRITING OUT\")                \n",
    "                        #Checkpoint ourselves by writing out progress every 15 model trains\n",
    "                        with open(f'{exp_dir}/exp_chpt/result_{model_count}.txt', 'w') as outfile:\n",
    "                            json.dump(model_variants, outfile)\n",
    "                    else:\n",
    "                        print(\"SKIPPING WRITE\") \n",
    "                except:\n",
    "                    print(\"ERROR WITH CYCLIC WRITE\")\n",
    "                    traceback.print_exc()"
   ]
  },
  {
   "cell_type": "code",
   "execution_count": null,
   "id": "potential-hospital",
   "metadata": {},
   "outputs": [],
   "source": []
  },
  {
   "cell_type": "code",
   "execution_count": null,
   "id": "graphic-maria",
   "metadata": {},
   "outputs": [],
   "source": []
  },
  {
   "cell_type": "code",
   "execution_count": null,
   "id": "incomplete-database",
   "metadata": {},
   "outputs": [],
   "source": []
  },
  {
   "cell_type": "markdown",
   "id": "modified-swaziland",
   "metadata": {},
   "source": [
    "<hr>"
   ]
  },
  {
   "cell_type": "markdown",
   "id": "configured-stroke",
   "metadata": {},
   "source": [
    "### Generate Results + Metrics"
   ]
  },
  {
   "cell_type": "code",
   "execution_count": null,
   "id": "discrete-movement",
   "metadata": {
    "lines_to_next_cell": 0
   },
   "outputs": [],
   "source": [
    "gen_params = {'num_beams': 1, \n",
    "              'max_length': 60,\n",
    "              'min_length': 20, \n",
    "              'early_stopping': True,\n",
    "              'do_sample': False,\n",
    "              'no_repeat_ngram_size': 2 \n",
    "             }\n",
    "\n",
    "#Returns a list of all the model generated outputs\n",
    "model_ouput = get_model_output(model, tokenizer, {}, None, tf_valid_ds, None)"
   ]
  },
  {
   "cell_type": "code",
   "execution_count": null,
   "id": "adverse-champion",
   "metadata": {
    "lines_to_next_cell": 2
   },
   "outputs": [],
   "source": [
    "#Write model outputs\n",
    "v_out = model_ouput['validation']['output']\n",
    "ts_val=time.strftime(\"%Y%m%d_%H%M\")\n",
    "print(ts_val)\n",
    "write_model_output(valid_ds, \"validation\", ts_val, v_out, write_path=exp_dir)"
   ]
  },
  {
   "cell_type": "code",
   "execution_count": null,
   "id": "accessory-campus",
   "metadata": {},
   "outputs": [],
   "source": [
    "# Let's Use E2E Evaluation Metrics\n",
    "scores = compute_metrics(exp_dir, base_dir, ts_val, 'validation', gen_params)\n",
    "print(scores)"
   ]
  },
  {
   "cell_type": "code",
   "execution_count": null,
   "id": "requested-reset",
   "metadata": {},
   "outputs": [],
   "source": [
    "print(scores)\n",
    "save_metrics(exp_dir, ts_val, scores)"
   ]
  },
  {
   "cell_type": "markdown",
   "id": "above-worker",
   "metadata": {},
   "source": [
    "#### If we like the scores and want to save the scores to our model track\n",
    "(We should probably club this with when we save to S3)"
   ]
  },
  {
   "cell_type": "markdown",
   "id": "ideal-chile",
   "metadata": {
    "lines_to_next_cell": 2
   },
   "source": [
    "### Save Model (only if its worth it)"
   ]
  },
  {
   "cell_type": "code",
   "execution_count": null,
   "id": "mental-divorce",
   "metadata": {},
   "outputs": [],
   "source": [
    "# Keep for AWS path\n",
    "model.save_pretrained(f'{model_path}')\n",
    "# save_model_to_s3(model,base_dir, ts_val)"
   ]
  },
  {
   "cell_type": "markdown",
   "id": "broken-rhythm",
   "metadata": {},
   "source": [
    "### Load Model"
   ]
  },
  {
   "cell_type": "code",
   "execution_count": null,
   "id": "complicated-lighting",
   "metadata": {},
   "outputs": [],
   "source": [
    "#Below is an optional step to load a pre-trained and saved model to directly run predictions.\n",
    "\n",
    "#model = T5Wrapper.from_pretrained(model_path) #to be uncommented when required. "
   ]
  }
 ],
 "metadata": {
  "jupytext": {
   "encoding": "# -*- coding: utf-8 -*-",
   "formats": "ipynb,py:light"
  },
  "kernelspec": {
   "display_name": "Python 3",
   "language": "python",
   "name": "python3"
  }
 },
 "nbformat": 4,
 "nbformat_minor": 5
}
