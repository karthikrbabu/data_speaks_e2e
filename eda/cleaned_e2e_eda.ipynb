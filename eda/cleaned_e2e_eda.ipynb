{
 "cells": [
  {
   "cell_type": "code",
   "execution_count": 155,
   "metadata": {},
   "outputs": [],
   "source": [
    "#Utilities\n",
    "import pandas as pd\n",
    "import numpy as np\n",
    "import math \n",
    "import json\n",
    "import re\n",
    "\n",
    "import collections\n",
    "from collections import defaultdict\n",
    "\n",
    "#Plotting\n",
    "import matplotlib.pyplot as plt\n",
    "import plotly.express as px\n",
    "\n",
    "#NLTK \n",
    "from nltk.tokenize import WordPunctTokenizer\n",
    "from nltk.tokenize import wordpunct_tokenize\n",
    "from nltk.tokenize import word_tokenize \n",
    "from nltk.tokenize import sent_tokenize\n",
    "from nltk.corpus import stopwords"
   ]
  },
  {
   "cell_type": "markdown",
   "metadata": {},
   "source": [
    "### EDA - Clean E2E Dataset"
   ]
  },
  {
   "cell_type": "code",
   "execution_count": 156,
   "metadata": {},
   "outputs": [
    {
     "name": "stdout",
     "output_type": "stream",
     "text": [
      "Train Size (33525, 4)\n",
      "Dev Size (4299, 4)\n",
      "Test Size (4693, 4)\n"
     ]
    },
    {
     "data": {
      "text/html": [
       "<div>\n",
       "<style scoped>\n",
       "    .dataframe tbody tr th:only-of-type {\n",
       "        vertical-align: middle;\n",
       "    }\n",
       "\n",
       "    .dataframe tbody tr th {\n",
       "        vertical-align: top;\n",
       "    }\n",
       "\n",
       "    .dataframe thead th {\n",
       "        text-align: right;\n",
       "    }\n",
       "</style>\n",
       "<table border=\"1\" class=\"dataframe\">\n",
       "  <thead>\n",
       "    <tr style=\"text-align: right;\">\n",
       "      <th></th>\n",
       "      <th>mr</th>\n",
       "      <th>ref</th>\n",
       "      <th>fixed</th>\n",
       "      <th>orig_mr</th>\n",
       "    </tr>\n",
       "  </thead>\n",
       "  <tbody>\n",
       "    <tr>\n",
       "      <td>0</td>\n",
       "      <td>name[The Eagle], eatType[coffee shop], food[Ja...</td>\n",
       "      <td>The Eagle is a low rated coffee shop near Burg...</td>\n",
       "      <td>0</td>\n",
       "      <td>name[The Eagle], eatType[coffee shop], food[Ja...</td>\n",
       "    </tr>\n",
       "    <tr>\n",
       "      <td>1</td>\n",
       "      <td>name[The Mill], eatType[coffee shop], food[Fre...</td>\n",
       "      <td>Located near The Sorrento is a French Theme ea...</td>\n",
       "      <td>1</td>\n",
       "      <td>name[The Mill], eatType[coffee shop], food[Fre...</td>\n",
       "    </tr>\n",
       "    <tr>\n",
       "      <td>2</td>\n",
       "      <td>name[Loch Fyne], food[French], area[riverside]...</td>\n",
       "      <td>For luxurious French food, the Loch Fyne is lo...</td>\n",
       "      <td>1</td>\n",
       "      <td>name[Loch Fyne], food[French], customer rating...</td>\n",
       "    </tr>\n",
       "    <tr>\n",
       "      <td>3</td>\n",
       "      <td>name[The Rice Boat], eatType[restaurant], food...</td>\n",
       "      <td>The Rice Boat is an adult French restaurant wi...</td>\n",
       "      <td>1</td>\n",
       "      <td>name[The Rice Boat], food[French], customer ra...</td>\n",
       "    </tr>\n",
       "    <tr>\n",
       "      <td>4</td>\n",
       "      <td>name[The Wrestlers], eatType[coffee shop], foo...</td>\n",
       "      <td>The Wrestlers coffee shop serves Japanese food...</td>\n",
       "      <td>0</td>\n",
       "      <td>name[The Wrestlers], eatType[coffee shop], foo...</td>\n",
       "    </tr>\n",
       "  </tbody>\n",
       "</table>\n",
       "</div>"
      ],
      "text/plain": [
       "                                                  mr  \\\n",
       "0  name[The Eagle], eatType[coffee shop], food[Ja...   \n",
       "1  name[The Mill], eatType[coffee shop], food[Fre...   \n",
       "2  name[Loch Fyne], food[French], area[riverside]...   \n",
       "3  name[The Rice Boat], eatType[restaurant], food...   \n",
       "4  name[The Wrestlers], eatType[coffee shop], foo...   \n",
       "\n",
       "                                                 ref  fixed  \\\n",
       "0  The Eagle is a low rated coffee shop near Burg...      0   \n",
       "1  Located near The Sorrento is a French Theme ea...      1   \n",
       "2  For luxurious French food, the Loch Fyne is lo...      1   \n",
       "3  The Rice Boat is an adult French restaurant wi...      1   \n",
       "4  The Wrestlers coffee shop serves Japanese food...      0   \n",
       "\n",
       "                                             orig_mr  \n",
       "0  name[The Eagle], eatType[coffee shop], food[Ja...  \n",
       "1  name[The Mill], eatType[coffee shop], food[Fre...  \n",
       "2  name[Loch Fyne], food[French], customer rating...  \n",
       "3  name[The Rice Boat], food[French], customer ra...  \n",
       "4  name[The Wrestlers], eatType[coffee shop], foo...  "
      ]
     },
     "execution_count": 156,
     "metadata": {},
     "output_type": "execute_result"
    }
   ],
   "source": [
    "train = pd.read_csv('../data/e2e-cleaning-master/cleaned-data/train-fixed.no-ol.csv')\n",
    "dev = pd.read_csv('../data/e2e-cleaning-master/cleaned-data/devel-fixed.no-ol.csv') \n",
    "test = pd.read_csv('../data/e2e-cleaning-master/cleaned-data/test-fixed.csv') \n",
    "print(\"Train Size\", train.shape)\n",
    "print(\"Dev Size\", dev.shape)\n",
    "print(\"Test Size\", test.shape)\n",
    "\n",
    "train.head()"
   ]
  },
  {
   "cell_type": "code",
   "execution_count": 157,
   "metadata": {
    "lines_to_next_cell": 2
   },
   "outputs": [],
   "source": [
    "#Stopwords Set\n",
    "sr= set(stopwords.words('english'))"
   ]
  },
  {
   "cell_type": "markdown",
   "metadata": {},
   "source": [
    "### Example of `fixed` vs. `not fixed`"
   ]
  },
  {
   "cell_type": "markdown",
   "metadata": {},
   "source": [
    "### Understand spread of MR Tags"
   ]
  },
  {
   "cell_type": "code",
   "execution_count": 158,
   "metadata": {},
   "outputs": [
    {
     "name": "stdout",
     "output_type": "stream",
     "text": [
      "Not Fixed:\n",
      "name[The Eagle], eatType[coffee shop], food[Japanese], priceRange[less than £20], customer rating[low], area[riverside], familyFriendly[yes], near[Burger King]\n",
      "name[The Eagle], eatType[coffee shop], food[Japanese], priceRange[less than £20], customer rating[low], area[riverside], familyFriendly[yes], near[Burger King]\n",
      "\n",
      "Fixed:\n",
      "name[The Mill], eatType[coffee shop], food[French], area[riverside], near[The Sorrento]\n",
      "name[The Mill], eatType[coffee shop], food[French], priceRange[£20-25], area[riverside], near[The Sorrento]\n"
     ]
    }
   ],
   "source": [
    "#Not Fixed\n",
    "print(\"Not Fixed:\")\n",
    "print(train.loc[0]['mr'])\n",
    "print(train.loc[0]['orig_mr'])\n",
    "print()\n",
    "#Fixed\n",
    "print(\"Fixed:\")\n",
    "print(train.loc[1]['mr'])\n",
    "print(train.loc[1]['orig_mr'])"
   ]
  },
  {
   "cell_type": "code",
   "execution_count": 159,
   "metadata": {},
   "outputs": [],
   "source": [
    "def get_tags(mr):\n",
    "    \"\"\"\n",
    "    Returns list of tags for a given MR. Also appends to global dictionary to track values for analysis\n",
    "    mr: single meaning representation\n",
    "    \"\"\"\n",
    "    tag_pairs = mr.split(',')\n",
    "    \n",
    "    tags = []\n",
    "    for pair in tag_pairs:\n",
    "        tag_name, value = pair.split('[')\n",
    "        \n",
    "        tag_name = tag_name.strip()\n",
    "        value = value[:-1]\n",
    "        \n",
    "        tag_values[tag_name].append(value)\n",
    "        tags.append(tag_name)\n",
    "    return tags"
   ]
  },
  {
   "cell_type": "code",
   "execution_count": 160,
   "metadata": {},
   "outputs": [
    {
     "data": {
      "text/plain": [
       "Counter({'name': 33495,\n",
       "         'eatType': 23141,\n",
       "         'food': 26469,\n",
       "         'priceRange': 20692,\n",
       "         'customer rating': 20432,\n",
       "         'area': 18922,\n",
       "         'familyFriendly': 17706,\n",
       "         'near': 14103})"
      ]
     },
     "execution_count": 160,
     "metadata": {},
     "output_type": "execute_result"
    }
   ],
   "source": [
    "#Dictionary to track values that tags take on in training\n",
    "tag_values = defaultdict(lambda: [])\n",
    "\n",
    "#List of lists, of tags\n",
    "all_tags = [get_tags(mr) for mr in train_mrs]\n",
    "\n",
    "#flatten tags_total\n",
    "flat_tags = [item.strip() for sublist in all_tags for item in sublist]\n",
    "\n",
    "#Unique Tags\n",
    "unique_tags = set(flat_tags)\n",
    "\n",
    "tag_counts = collections.Counter(flat_tags)\n",
    "tag_counts"
   ]
  },
  {
   "cell_type": "code",
   "execution_count": 161,
   "metadata": {},
   "outputs": [
    {
     "data": {
      "image/png": "[encoded data removed]",
      "text/plain": [
       "<Figure size 432x288 with 1 Axes>"
      ]
     },
     "metadata": {
      "needs_background": "light"
     },
     "output_type": "display_data"
    },
    {
     "name": "stdout",
     "output_type": "stream",
     "text": [
      "CPU times: user 218 ms, sys: 4.42 ms, total: 223 ms\n",
      "Wall time: 221 ms\n"
     ]
    },
    {
     "data": {
      "text/plain": [
       "<matplotlib.axes._subplots.AxesSubplot at 0x1a3163a190>"
      ]
     },
     "execution_count": 161,
     "metadata": {},
     "output_type": "execute_result"
    }
   ],
   "source": [
    "%%time\n",
    "tag_clean_tokens = []\n",
    "for token in flat_tags:\n",
    "    if token not in sr:\n",
    "        tag_clean_tokens.append(token)\n",
    "\n",
    "freq_tag = nltk.FreqDist(tag_clean_tokens)\n",
    "freq_tag.plot(20, cumulative=False)"
   ]
  },
  {
   "cell_type": "markdown",
   "metadata": {},
   "source": [
    "### Understand spread of all words in MR, ignore `[`, `]`, `<any_punctuation>` and `<stopwords>`"
   ]
  },
  {
   "cell_type": "code",
   "execution_count": 162,
   "metadata": {
    "scrolled": true
   },
   "outputs": [
    {
     "name": "stdout",
     "output_type": "stream",
     "text": [
      "CPU times: user 10.9 s, sys: 36.2 ms, total: 10.9 s\n",
      "Wall time: 10.9 s\n"
     ]
    }
   ],
   "source": [
    "%%time\n",
    "def get_word_tokens(text_value):\n",
    "    \"\"\"\n",
    "    Returns total list of tokens from the text_value\n",
    "    text_value: word value that a mr tag may have\n",
    "    \"\"\"\n",
    "    tokens = nltk.word_tokenize(text_value)\n",
    "    return [word.lower() for word in tokens if word.isalpha()]\n",
    "\n",
    "#Flatten list, one for each tag key\n",
    "values = [item for sublist in list(tag_values.values()) for item in sublist] \n",
    "\n",
    "#List of lists, of all words\n",
    "word_list = [get_word_tokens(text) for text in values]\n",
    "\n",
    "#flatten tags_total\n",
    "flat_words = [item for sublist in word_list for item in sublist]\n",
    "\n",
    "#Unique words\n",
    "unique_words = set(flat_words)\n",
    "\n",
    "# Word counts\n",
    "word_counts = collections.Counter(flat_words)"
   ]
  },
  {
   "cell_type": "code",
   "execution_count": 163,
   "metadata": {
    "lines_to_next_cell": 2
   },
   "outputs": [],
   "source": [
    "#Non Stop Words\n",
    "unique_words_non_stop = unique_words - sr"
   ]
  },
  {
   "cell_type": "code",
   "execution_count": 164,
   "metadata": {
    "lines_to_next_cell": 0
   },
   "outputs": [
    {
     "data": {
      "image/png": "[encoded data removed]",
      "text/plain": [
       "<Figure size 432x288 with 1 Axes>"
      ]
     },
     "metadata": {
      "needs_background": "light"
     },
     "output_type": "display_data"
    },
    {
     "name": "stdout",
     "output_type": "stream",
     "text": [
      "CPU times: user 293 ms, sys: 8.8 ms, total: 302 ms\n",
      "Wall time: 303 ms\n"
     ]
    },
    {
     "data": {
      "text/plain": [
       "<matplotlib.axes._subplots.AxesSubplot at 0x1a27960e10>"
      ]
     },
     "execution_count": 164,
     "metadata": {},
     "output_type": "execute_result"
    }
   ],
   "source": [
    "%%time\n",
    "word_clean_tokens = []\n",
    "for token in flat_words:\n",
    "    if token not in sr:\n",
    "        word_clean_tokens.append(token)\n",
    "\n",
    "# Non-Stop Word counts\n",
    "word_counts_non_stop = collections.Counter(word_clean_tokens)        \n",
    "\n",
    "word_freq = nltk.FreqDist(word_clean_tokens)\n",
    "word_freq.plot(20, cumulative=False)"
   ]
  },
  {
   "cell_type": "code",
   "execution_count": 165,
   "metadata": {
    "lines_to_next_cell": 2
   },
   "outputs": [
    {
     "name": "stdout",
     "output_type": "stream",
     "text": [
      "Size of MR Vocab (no tags) 106\n",
      "Size of MR Vocab (no tags, no stopwords) 98\n"
     ]
    }
   ],
   "source": [
    "print(\"Size of MR Vocab (no tags)\", len(unique_words))\n",
    "print(\"Size of MR Vocab (no tags, no stopwords)\", len(word_counts_non_stop))"
   ]
  },
  {
   "cell_type": "markdown",
   "metadata": {},
   "source": [
    "<hr>"
   ]
  },
  {
   "cell_type": "markdown",
   "metadata": {},
   "source": [
    "### Shifting focus to the `<ref>` outputs analysis"
   ]
  },
  {
   "cell_type": "code",
   "execution_count": 166,
   "metadata": {},
   "outputs": [
    {
     "data": {
      "text/plain": [
       "'The Eagle is a low rated coffee shop near Burger King and the riverside that is family friendly and is less than £20 for Japanese food.'"
      ]
     },
     "execution_count": 166,
     "metadata": {},
     "output_type": "execute_result"
    }
   ],
   "source": [
    "train_refs = train['ref']\n",
    "train_refs[0]"
   ]
  },
  {
   "cell_type": "code",
   "execution_count": 167,
   "metadata": {},
   "outputs": [
    {
     "name": "stdout",
     "output_type": "stream",
     "text": [
      "CPU times: user 5.52 s, sys: 33.1 ms, total: 5.55 s\n",
      "Wall time: 5.56 s\n"
     ]
    }
   ],
   "source": [
    "%%time\n",
    "#List of lists, of all words\n",
    "ref_words = [get_word_tokens(text) for text in train_refs]\n",
    "\n",
    "#flatten tags_total\n",
    "flat_ref_words = [item for sublist in ref_words for item in sublist]\n",
    "\n",
    "#Unique words\n",
    "unique_ref_words = set(flat_ref_words)\n",
    "\n",
    "# Word counts\n",
    "ref_word_counts = collections.Counter(unique_ref_words)"
   ]
  },
  {
   "cell_type": "code",
   "execution_count": 168,
   "metadata": {},
   "outputs": [
    {
     "data": {
      "image/png": "[encoded data removed]",
      "text/plain": [
       "<Figure size 432x288 with 1 Axes>"
      ]
     },
     "metadata": {
      "needs_background": "light"
     },
     "output_type": "display_data"
    },
    {
     "name": "stdout",
     "output_type": "stream",
     "text": [
      "CPU times: user 488 ms, sys: 7.01 ms, total: 495 ms\n",
      "Wall time: 495 ms\n"
     ]
    },
    {
     "data": {
      "text/plain": [
       "<matplotlib.axes._subplots.AxesSubplot at 0x1a26939b10>"
      ]
     },
     "execution_count": 168,
     "metadata": {},
     "output_type": "execute_result"
    }
   ],
   "source": [
    "%%time\n",
    "ref_word_clean_tokens = []\n",
    "for token in flat_ref_words:\n",
    "    if token not in sr:\n",
    "        ref_word_clean_tokens.append(token)\n",
    "\n",
    "# Non-Stop Word counts\n",
    "ref_word_counts_non_stop = collections.Counter(ref_word_clean_tokens)        \n",
    "\n",
    "word_freq = nltk.FreqDist(ref_word_clean_tokens)\n",
    "word_freq.plot(20, cumulative=False)"
   ]
  },
  {
   "cell_type": "code",
   "execution_count": 169,
   "metadata": {},
   "outputs": [
    {
     "name": "stdout",
     "output_type": "stream",
     "text": [
      "Size of Ref Vocab 2019\n",
      "Size of Ref Vocab (no stopwords) 1909\n"
     ]
    }
   ],
   "source": [
    "print(\"Size of Ref Vocab\", len(unique_ref_words))\n",
    "print(\"Size of Ref Vocab (no stopwords)\", len(ref_word_counts_non_stop))"
   ]
  },
  {
   "cell_type": "code",
   "execution_count": null,
   "metadata": {},
   "outputs": [],
   "source": []
  }
 ],
 "metadata": {
  "jupytext": {
   "formats": "ipynb,py"
  },
  "kernelspec": {
   "display_name": "Python 3",
   "language": "python",
   "name": "python3"
  },
  "language_info": {
   "codemirror_mode": {
    "name": "ipython",
    "version": 3
   },
   "file_extension": ".py",
   "mimetype": "text/x-python",
   "name": "python",
   "nbconvert_exporter": "python",
   "pygments_lexer": "ipython3",
   "version": "3.7.4"
  }
 },
 "nbformat": 4,
 "nbformat_minor": 2
}
